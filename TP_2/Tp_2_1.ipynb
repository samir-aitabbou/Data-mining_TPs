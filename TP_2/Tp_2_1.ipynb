{
 "cells": [
  {
   "cell_type": "markdown",
   "id": "f1cbefb4",
   "metadata": {},
   "source": [
    "# TP 2:  Panorama des méthodes de fouille de données\n"
   ]
  },
  {
   "cell_type": "markdown",
   "id": "53c9bf3f",
   "metadata": {},
   "source": [
    "L'objectif de cette séance est de passer en revue les di\u001bérents types de méthodes utilisées en\n",
    "fouille de données, que ce soit en analyse exploratoire ou en analyse prédictive."
   ]
  },
  {
   "cell_type": "markdown",
   "id": "6c82120e",
   "metadata": {},
   "source": [
    "# 1 Analyse exploratoire\n"
   ]
  },
  {
   "cell_type": "markdown",
   "id": "5561f256",
   "metadata": {},
   "source": [
    "## 1.1 Classification / Clustering\n"
   ]
  },
  {
   "cell_type": "code",
   "execution_count": 1,
   "id": "1326a6f6",
   "metadata": {},
   "outputs": [
    {
     "data": {
      "text/html": [
       "<div>\n",
       "<style scoped>\n",
       "    .dataframe tbody tr th:only-of-type {\n",
       "        vertical-align: middle;\n",
       "    }\n",
       "\n",
       "    .dataframe tbody tr th {\n",
       "        vertical-align: top;\n",
       "    }\n",
       "\n",
       "    .dataframe thead th {\n",
       "        text-align: right;\n",
       "    }\n",
       "</style>\n",
       "<table border=\"1\" class=\"dataframe\">\n",
       "  <thead>\n",
       "    <tr style=\"text-align: right;\">\n",
       "      <th></th>\n",
       "      <th>country</th>\n",
       "      <th>country_code</th>\n",
       "      <th>population</th>\n",
       "      <th>vaccine_2021-winter</th>\n",
       "      <th>vaccine_2021-spring</th>\n",
       "      <th>vaccine_2021-summer</th>\n",
       "      <th>vaccine_2021-fall</th>\n",
       "      <th>vaccine_2022-winter</th>\n",
       "      <th>testing_rate_2020</th>\n",
       "      <th>testing_rate_2021</th>\n",
       "      <th>deaths_rate-2020-spring</th>\n",
       "      <th>deaths_rate-2020-summer</th>\n",
       "      <th>deaths_rate-2020-fall</th>\n",
       "      <th>deaths_rate-2021-winter</th>\n",
       "      <th>deaths_rate-2021-spring</th>\n",
       "      <th>deaths_rate-2021-summer</th>\n",
       "      <th>deaths_rate-2021-fall</th>\n",
       "      <th>deaths_rate-2022-winter</th>\n",
       "    </tr>\n",
       "  </thead>\n",
       "  <tbody>\n",
       "    <tr>\n",
       "      <th>0</th>\n",
       "      <td>Austria</td>\n",
       "      <td>AT</td>\n",
       "      <td>8901064</td>\n",
       "      <td>711326</td>\n",
       "      <td>5070308</td>\n",
       "      <td>4528419</td>\n",
       "      <td>3686962</td>\n",
       "      <td>2744560</td>\n",
       "      <td>902.69</td>\n",
       "      <td>32690.31</td>\n",
       "      <td>11.978</td>\n",
       "      <td>1.167</td>\n",
       "      <td>42.830</td>\n",
       "      <td>89.894</td>\n",
       "      <td>31.633</td>\n",
       "      <td>2.748</td>\n",
       "      <td>31.872</td>\n",
       "      <td>31.218</td>\n",
       "    </tr>\n",
       "    <tr>\n",
       "      <th>1</th>\n",
       "      <td>Belgium</td>\n",
       "      <td>BE</td>\n",
       "      <td>11522440</td>\n",
       "      <td>870773</td>\n",
       "      <td>6802244</td>\n",
       "      <td>7639306</td>\n",
       "      <td>2677905</td>\n",
       "      <td>4549303</td>\n",
       "      <td>1314.77</td>\n",
       "      <td>3192.26</td>\n",
       "      <td>123.405</td>\n",
       "      <td>7.671</td>\n",
       "      <td>86.533</td>\n",
       "      <td>76.306</td>\n",
       "      <td>34.566</td>\n",
       "      <td>4.847</td>\n",
       "      <td>22.805</td>\n",
       "      <td>36.125</td>\n",
       "    </tr>\n",
       "    <tr>\n",
       "      <th>2</th>\n",
       "      <td>Bulgaria</td>\n",
       "      <td>BG</td>\n",
       "      <td>6951482</td>\n",
       "      <td>212445</td>\n",
       "      <td>1251970</td>\n",
       "      <td>877732</td>\n",
       "      <td>1026556</td>\n",
       "      <td>818245</td>\n",
       "      <td>489.46</td>\n",
       "      <td>1553.12</td>\n",
       "      <td>2.988</td>\n",
       "      <td>9.738</td>\n",
       "      <td>59.965</td>\n",
       "      <td>148.690</td>\n",
       "      <td>158.897</td>\n",
       "      <td>25.650</td>\n",
       "      <td>210.912</td>\n",
       "      <td>160.200</td>\n",
       "    </tr>\n",
       "    <tr>\n",
       "      <th>3</th>\n",
       "      <td>Croatia</td>\n",
       "      <td>HR</td>\n",
       "      <td>4058165</td>\n",
       "      <td>243767</td>\n",
       "      <td>1770881</td>\n",
       "      <td>1336909</td>\n",
       "      <td>893535</td>\n",
       "      <td>793016</td>\n",
       "      <td>506.42</td>\n",
       "      <td>2185.70</td>\n",
       "      <td>3.829</td>\n",
       "      <td>2.900</td>\n",
       "      <td>51.368</td>\n",
       "      <td>149.556</td>\n",
       "      <td>90.558</td>\n",
       "      <td>11.278</td>\n",
       "      <td>100.121</td>\n",
       "      <td>160.387</td>\n",
       "    </tr>\n",
       "    <tr>\n",
       "      <th>4</th>\n",
       "      <td>Cyprus</td>\n",
       "      <td>CY</td>\n",
       "      <td>888005</td>\n",
       "      <td>75022</td>\n",
       "      <td>564483</td>\n",
       "      <td>436540</td>\n",
       "      <td>232256</td>\n",
       "      <td>305687</td>\n",
       "      <td>1955.11</td>\n",
       "      <td>32100.15</td>\n",
       "      <td>4.331</td>\n",
       "      <td>0.693</td>\n",
       "      <td>6.237</td>\n",
       "      <td>40.021</td>\n",
       "      <td>26.946</td>\n",
       "      <td>29.712</td>\n",
       "      <td>13.773</td>\n",
       "      <td>35.895</td>\n",
       "    </tr>\n",
       "  </tbody>\n",
       "</table>\n",
       "</div>"
      ],
      "text/plain": [
       "    country country_code  population  vaccine_2021-winter  \\\n",
       "0   Austria           AT     8901064               711326   \n",
       "1   Belgium           BE    11522440               870773   \n",
       "2  Bulgaria           BG     6951482               212445   \n",
       "3   Croatia           HR     4058165               243767   \n",
       "4    Cyprus           CY      888005                75022   \n",
       "\n",
       "   vaccine_2021-spring  vaccine_2021-summer  vaccine_2021-fall  \\\n",
       "0              5070308              4528419            3686962   \n",
       "1              6802244              7639306            2677905   \n",
       "2              1251970               877732            1026556   \n",
       "3              1770881              1336909             893535   \n",
       "4               564483               436540             232256   \n",
       "\n",
       "   vaccine_2022-winter  testing_rate_2020  testing_rate_2021  \\\n",
       "0              2744560             902.69           32690.31   \n",
       "1              4549303            1314.77            3192.26   \n",
       "2               818245             489.46            1553.12   \n",
       "3               793016             506.42            2185.70   \n",
       "4               305687            1955.11           32100.15   \n",
       "\n",
       "   deaths_rate-2020-spring  deaths_rate-2020-summer  deaths_rate-2020-fall  \\\n",
       "0                   11.978                    1.167                 42.830   \n",
       "1                  123.405                    7.671                 86.533   \n",
       "2                    2.988                    9.738                 59.965   \n",
       "3                    3.829                    2.900                 51.368   \n",
       "4                    4.331                    0.693                  6.237   \n",
       "\n",
       "   deaths_rate-2021-winter  deaths_rate-2021-spring  deaths_rate-2021-summer  \\\n",
       "0                   89.894                   31.633                    2.748   \n",
       "1                   76.306                   34.566                    4.847   \n",
       "2                  148.690                  158.897                   25.650   \n",
       "3                  149.556                   90.558                   11.278   \n",
       "4                   40.021                   26.946                   29.712   \n",
       "\n",
       "   deaths_rate-2021-fall  deaths_rate-2022-winter  \n",
       "0                 31.872                   31.218  \n",
       "1                 22.805                   36.125  \n",
       "2                210.912                  160.200  \n",
       "3                100.121                  160.387  \n",
       "4                 13.773                   35.895  "
      ]
     },
     "execution_count": 1,
     "metadata": {},
     "output_type": "execute_result"
    }
   ],
   "source": [
    "import pandas as pd\n",
    "import matplotlib\n",
    "import matplotlib.pyplot as plt\n",
    "import numpy as np\n",
    "\n",
    "# Turn interactive plotting off\n",
    "plt.ioff()\n",
    "\n",
    "# # read input text and put data inside a data frame\n",
    "covid = pd.read_csv(\"data/covid19.v2.csv\")\n",
    "covid.head()\n"
   ]
  },
  {
   "cell_type": "markdown",
   "id": "99b894cf",
   "metadata": {},
   "source": [
    "### Combien y a-t-il d'attributs ? De quels types sont-ils ?"
   ]
  },
  {
   "cell_type": "code",
   "execution_count": 2,
   "id": "fead56d3",
   "metadata": {},
   "outputs": [
    {
     "name": "stdout",
     "output_type": "stream",
     "text": [
      "Nombre d'attributs : 18\n",
      "\n",
      "Types d'attributs :\n",
      "country                     object\n",
      "country_code                object\n",
      "population                   int64\n",
      "vaccine_2021-winter          int64\n",
      "vaccine_2021-spring          int64\n",
      "vaccine_2021-summer          int64\n",
      "vaccine_2021-fall            int64\n",
      "vaccine_2022-winter          int64\n",
      "testing_rate_2020          float64\n",
      "testing_rate_2021          float64\n",
      "deaths_rate-2020-spring    float64\n",
      "deaths_rate-2020-summer    float64\n",
      "deaths_rate-2020-fall      float64\n",
      "deaths_rate-2021-winter    float64\n",
      "deaths_rate-2021-spring    float64\n",
      "deaths_rate-2021-summer    float64\n",
      "deaths_rate-2021-fall      float64\n",
      "deaths_rate-2022-winter    float64\n",
      "dtype: object\n"
     ]
    }
   ],
   "source": [
    "# Obtenir le nombre d'attributs et leurs types\n",
    "num_attributes = len(covid.columns)\n",
    "attribute_types = covid.dtypes\n",
    "\n",
    "print(f\"Nombre d'attributs : {num_attributes}\")\n",
    "print(\"\\nTypes d'attributs :\")\n",
    "print(attribute_types)"
   ]
  },
  {
   "cell_type": "markdown",
   "id": "7b537622",
   "metadata": {},
   "source": [
    "### Y a-t-il des valeurs manquantes dans les données ? Comment ces valeurs sont-elles représentées dans le ficher ?\n"
   ]
  },
  {
   "cell_type": "code",
   "execution_count": 3,
   "id": "9ff41675",
   "metadata": {},
   "outputs": [
    {
     "name": "stdout",
     "output_type": "stream",
     "text": [
      "Nombre de valeurs manquantes par attribut :\n",
      "country                    0\n",
      "country_code               0\n",
      "population                 0\n",
      "vaccine_2021-winter        0\n",
      "vaccine_2021-spring        0\n",
      "vaccine_2021-summer        0\n",
      "vaccine_2021-fall          0\n",
      "vaccine_2022-winter        0\n",
      "testing_rate_2020          0\n",
      "testing_rate_2021          0\n",
      "deaths_rate-2020-spring    0\n",
      "deaths_rate-2020-summer    0\n",
      "deaths_rate-2020-fall      0\n",
      "deaths_rate-2021-winter    0\n",
      "deaths_rate-2021-spring    0\n",
      "deaths_rate-2021-summer    0\n",
      "deaths_rate-2021-fall      0\n",
      "deaths_rate-2022-winter    0\n",
      "dtype: int64\n"
     ]
    }
   ],
   "source": [
    "missing_values = covid.isnull().sum()\n",
    "print(\"Nombre de valeurs manquantes par attribut :\")\n",
    "print(missing_values)\n"
   ]
  },
  {
   "cell_type": "markdown",
   "id": "95ca4e19",
   "metadata": {},
   "source": [
    "pas de valeur NAN Alors"
   ]
  },
  {
   "cell_type": "markdown",
   "id": "757fcf05",
   "metadata": {},
   "source": [
    "### Les nombres de doses injectées dans un pays sont liés à sa population. De façon à avoir des variables qui donnent une idée plus précise de la couverture vaccinale du pays, calculez plutôt le nombre de doses pour 1 000 habitants. Une fois que vous aurez réalisé ce calcul, supprimez la variable correspondant au nombre d'habitants."
   ]
  },
  {
   "cell_type": "code",
   "execution_count": 4,
   "id": "6e99be28",
   "metadata": {},
   "outputs": [],
   "source": [
    "# Liste des années de vaccination\n",
    "annees_vaccination = [\"2021-winter\", \"2021-spring\", \"2021-summer\", \"2021-fall\", \"2022-winter\"]\n",
    "\n",
    "for annee in annees_vaccination:\n",
    "    # Calculer le nombre de doses pour 1 000 habitants dans la colonne existante\n",
    "    covid[f'vaccine_{annee}'] = (covid[f'vaccine_{annee}'] / covid[\"population\"]) * 1000\n",
    "\n",
    "# Supprimer la colonne \"population\"\n",
    "covid = covid.drop(\"population\", axis=1)\n"
   ]
  },
  {
   "cell_type": "code",
   "execution_count": 5,
   "id": "0b0caab6",
   "metadata": {},
   "outputs": [
    {
     "data": {
      "text/html": [
       "<div>\n",
       "<style scoped>\n",
       "    .dataframe tbody tr th:only-of-type {\n",
       "        vertical-align: middle;\n",
       "    }\n",
       "\n",
       "    .dataframe tbody tr th {\n",
       "        vertical-align: top;\n",
       "    }\n",
       "\n",
       "    .dataframe thead th {\n",
       "        text-align: right;\n",
       "    }\n",
       "</style>\n",
       "<table border=\"1\" class=\"dataframe\">\n",
       "  <thead>\n",
       "    <tr style=\"text-align: right;\">\n",
       "      <th></th>\n",
       "      <th>country</th>\n",
       "      <th>country_code</th>\n",
       "      <th>vaccine_2021-winter</th>\n",
       "      <th>vaccine_2021-spring</th>\n",
       "      <th>vaccine_2021-summer</th>\n",
       "      <th>vaccine_2021-fall</th>\n",
       "      <th>vaccine_2022-winter</th>\n",
       "      <th>testing_rate_2020</th>\n",
       "      <th>testing_rate_2021</th>\n",
       "      <th>deaths_rate-2020-spring</th>\n",
       "      <th>deaths_rate-2020-summer</th>\n",
       "      <th>deaths_rate-2020-fall</th>\n",
       "      <th>deaths_rate-2021-winter</th>\n",
       "      <th>deaths_rate-2021-spring</th>\n",
       "      <th>deaths_rate-2021-summer</th>\n",
       "      <th>deaths_rate-2021-fall</th>\n",
       "      <th>deaths_rate-2022-winter</th>\n",
       "    </tr>\n",
       "  </thead>\n",
       "  <tbody>\n",
       "    <tr>\n",
       "      <th>0</th>\n",
       "      <td>Austria</td>\n",
       "      <td>AT</td>\n",
       "      <td>79.914716</td>\n",
       "      <td>569.629429</td>\n",
       "      <td>508.750302</td>\n",
       "      <td>414.215874</td>\n",
       "      <td>308.340666</td>\n",
       "      <td>902.69</td>\n",
       "      <td>32690.31</td>\n",
       "      <td>11.978</td>\n",
       "      <td>1.167</td>\n",
       "      <td>42.830</td>\n",
       "      <td>89.894</td>\n",
       "      <td>31.633</td>\n",
       "      <td>2.748</td>\n",
       "      <td>31.872</td>\n",
       "      <td>31.218</td>\n",
       "    </tr>\n",
       "    <tr>\n",
       "      <th>1</th>\n",
       "      <td>Belgium</td>\n",
       "      <td>BE</td>\n",
       "      <td>75.571927</td>\n",
       "      <td>590.347531</td>\n",
       "      <td>662.993776</td>\n",
       "      <td>232.407806</td>\n",
       "      <td>394.821149</td>\n",
       "      <td>1314.77</td>\n",
       "      <td>3192.26</td>\n",
       "      <td>123.405</td>\n",
       "      <td>7.671</td>\n",
       "      <td>86.533</td>\n",
       "      <td>76.306</td>\n",
       "      <td>34.566</td>\n",
       "      <td>4.847</td>\n",
       "      <td>22.805</td>\n",
       "      <td>36.125</td>\n",
       "    </tr>\n",
       "    <tr>\n",
       "      <th>2</th>\n",
       "      <td>Bulgaria</td>\n",
       "      <td>BG</td>\n",
       "      <td>30.561109</td>\n",
       "      <td>180.101164</td>\n",
       "      <td>126.265450</td>\n",
       "      <td>147.674410</td>\n",
       "      <td>117.707994</td>\n",
       "      <td>489.46</td>\n",
       "      <td>1553.12</td>\n",
       "      <td>2.988</td>\n",
       "      <td>9.738</td>\n",
       "      <td>59.965</td>\n",
       "      <td>148.690</td>\n",
       "      <td>158.897</td>\n",
       "      <td>25.650</td>\n",
       "      <td>210.912</td>\n",
       "      <td>160.200</td>\n",
       "    </tr>\n",
       "    <tr>\n",
       "      <th>3</th>\n",
       "      <td>Croatia</td>\n",
       "      <td>HR</td>\n",
       "      <td>60.068282</td>\n",
       "      <td>436.374815</td>\n",
       "      <td>329.436827</td>\n",
       "      <td>220.182028</td>\n",
       "      <td>195.412459</td>\n",
       "      <td>506.42</td>\n",
       "      <td>2185.70</td>\n",
       "      <td>3.829</td>\n",
       "      <td>2.900</td>\n",
       "      <td>51.368</td>\n",
       "      <td>149.556</td>\n",
       "      <td>90.558</td>\n",
       "      <td>11.278</td>\n",
       "      <td>100.121</td>\n",
       "      <td>160.387</td>\n",
       "    </tr>\n",
       "    <tr>\n",
       "      <th>4</th>\n",
       "      <td>Cyprus</td>\n",
       "      <td>CY</td>\n",
       "      <td>84.483759</td>\n",
       "      <td>635.675475</td>\n",
       "      <td>491.596331</td>\n",
       "      <td>261.548077</td>\n",
       "      <td>344.240179</td>\n",
       "      <td>1955.11</td>\n",
       "      <td>32100.15</td>\n",
       "      <td>4.331</td>\n",
       "      <td>0.693</td>\n",
       "      <td>6.237</td>\n",
       "      <td>40.021</td>\n",
       "      <td>26.946</td>\n",
       "      <td>29.712</td>\n",
       "      <td>13.773</td>\n",
       "      <td>35.895</td>\n",
       "    </tr>\n",
       "  </tbody>\n",
       "</table>\n",
       "</div>"
      ],
      "text/plain": [
       "    country country_code  vaccine_2021-winter  vaccine_2021-spring  \\\n",
       "0   Austria           AT            79.914716           569.629429   \n",
       "1   Belgium           BE            75.571927           590.347531   \n",
       "2  Bulgaria           BG            30.561109           180.101164   \n",
       "3   Croatia           HR            60.068282           436.374815   \n",
       "4    Cyprus           CY            84.483759           635.675475   \n",
       "\n",
       "   vaccine_2021-summer  vaccine_2021-fall  vaccine_2022-winter  \\\n",
       "0           508.750302         414.215874           308.340666   \n",
       "1           662.993776         232.407806           394.821149   \n",
       "2           126.265450         147.674410           117.707994   \n",
       "3           329.436827         220.182028           195.412459   \n",
       "4           491.596331         261.548077           344.240179   \n",
       "\n",
       "   testing_rate_2020  testing_rate_2021  deaths_rate-2020-spring  \\\n",
       "0             902.69           32690.31                   11.978   \n",
       "1            1314.77            3192.26                  123.405   \n",
       "2             489.46            1553.12                    2.988   \n",
       "3             506.42            2185.70                    3.829   \n",
       "4            1955.11           32100.15                    4.331   \n",
       "\n",
       "   deaths_rate-2020-summer  deaths_rate-2020-fall  deaths_rate-2021-winter  \\\n",
       "0                    1.167                 42.830                   89.894   \n",
       "1                    7.671                 86.533                   76.306   \n",
       "2                    9.738                 59.965                  148.690   \n",
       "3                    2.900                 51.368                  149.556   \n",
       "4                    0.693                  6.237                   40.021   \n",
       "\n",
       "   deaths_rate-2021-spring  deaths_rate-2021-summer  deaths_rate-2021-fall  \\\n",
       "0                   31.633                    2.748                 31.872   \n",
       "1                   34.566                    4.847                 22.805   \n",
       "2                  158.897                   25.650                210.912   \n",
       "3                   90.558                   11.278                100.121   \n",
       "4                   26.946                   29.712                 13.773   \n",
       "\n",
       "   deaths_rate-2022-winter  \n",
       "0                   31.218  \n",
       "1                   36.125  \n",
       "2                  160.200  \n",
       "3                  160.387  \n",
       "4                   35.895  "
      ]
     },
     "execution_count": 5,
     "metadata": {},
     "output_type": "execute_result"
    }
   ],
   "source": [
    "covid.head()"
   ]
  },
  {
   "cell_type": "markdown",
   "id": "7e3ce210",
   "metadata": {},
   "source": [
    "Les valeurs dans les colonnes \"vaccine\" ont été modifiées pour représenter le nombre de doses pour 1 000 habitants, et la colonne \"population\" a été supprimée. Les données sont prêtes pour la suite de l'analyse"
   ]
  },
  {
   "cell_type": "markdown",
   "id": "e30f2884",
   "metadata": {},
   "source": [
    "### Il est souvent utile d'appliquer un filtre de normalisation sur tous les attributs avant d'utiliser des méthodes de clustering. Quel est l'effet du filtre StandardScaler sur les données ? "
   ]
  },
  {
   "cell_type": "markdown",
   "id": "40bd327e",
   "metadata": {},
   "source": [
    "\n",
    "Le filtre StandardScaler (également connu sous le nom de Standardization) est couramment utilisé pour normaliser les données avant d'appliquer des méthodes de clustering. Son effet sur les données est de les transformer de telle sorte que chaque attribut (caractéristique) ait une moyenne de 0 et un écart-type de 1. Cela signifie que les données sont centrées autour de zéro et ont des écarts types égaux.\n",
    "\n",
    "Les avantages de l'utilisation de StandardScaler avant le clustering sont les suivants :\n",
    "\n",
    "    Égalisation d'échelle: Lorsque vous effectuez des opérations de clustering, la distance entre les points de données est souvent utilisée comme mesure de similarité. Si les échelles de différentes caractéristiques varient considérablement, certaines caractéristiques peuvent avoir plus d'influence sur la mesure de distance que d'autres. En standardisant les données, vous égalisez les échelles et traitez toutes les caractéristiques de manière équitable.\n",
    "\n",
    "    Moyenne zéro et écart-type 1: La standardisation permet de centrer les données autour de zéro, ce qui peut faciliter l'interprétation des résultats du clustering. Un écart-type de 1 signifie que la variabilité des données est conservée tout en les mettant à la même échelle.\n",
    "\n",
    "    Meilleure convergence: Lorsque vous effectuez des méthodes de clustering qui dépendent de la distance, telles que K-means, une échelle équilibrée peut contribuer à une meilleure convergence de l'algorithme.\n",
    "    \n",
    "\n",
    "En résumé, l'effet du filtre StandardScaler sur les données est de rendre les attributs comparables et équilibrés en termes d'échelle, ce qui peut améliorer les performances des méthodes de clustering et simplifier l'interprétation des résultats. Cependant, il est important de noter que la standardisation n'est pas toujours nécessaire, et son application dépend du contexte spécifique et des caractéristiques des données.\n",
    "\n",
    "\n",
    "\n",
    "\n",
    "\n"
   ]
  },
  {
   "cell_type": "markdown",
   "id": "87e96106",
   "metadata": {},
   "source": [
    "### A-t-on besoin ici d'employer ce Filtre sur les données étudiées ?"
   ]
  },
  {
   "cell_type": "markdown",
   "id": "593f85b9",
   "metadata": {},
   "source": [
    "les échelles des attributs varient considérablement, cela peut affecter la performance des méthodes de clustering, en particulier celles qui dépendent de distances. donc la Standarisation est néccessaire dans ce cas"
   ]
  },
  {
   "cell_type": "markdown",
   "id": "8254ad0f",
   "metadata": {},
   "source": [
    "### Effectuez une analyse en composantes principales (ACP) sur les données à l'aide de la bibliothèque scikit-learn"
   ]
  },
  {
   "cell_type": "code",
   "execution_count": 7,
   "id": "8a11b69c",
   "metadata": {},
   "outputs": [],
   "source": [
    "from sklearn.decomposition import PCA\n",
    "import pandas as pd\n",
    "import matplotlib.pyplot as plt\n",
    "from sklearn.preprocessing import StandardScaler\n",
    "\n",
    "\n",
    "# Sélectionner les colonnes numériques\n",
    "Data = covid.select_dtypes(include=['float64', 'int64'])\n",
    "\n",
    "# Standardisation des données\n",
    "scaler = StandardScaler()\n",
    "Data_scaled = scaler.fit_transform(Data)\n",
    "\n",
    "# Créez une instance de PCA sans spécifier le nombre de composantes\n",
    "pca = PCA()\n",
    "\n",
    "# Appliquez l'ACP aux données\n",
    "components = pca.fit_transform(Data_scaled)\n",
    "\n",
    "# Créez un DataFrame pour les composantes principales (ajustez les noms des colonnes si nécessaire)\n",
    "components_df = pd.DataFrame(data=components, columns=[f'PC{i+1}' for i in range(components.shape[1])])\n",
    "\n",
    "# Vous pouvez maintenant accéder aux composantes principales et à d'autres attributs de pca\n",
    "\n",
    "# Affichage de la variance expliquée en fonction du nombre de composantes\n",
    "# explained_variance_ratio = pca.explained_variance_ratio_\n",
    "# cumulative_variance_ratio = explained_variance_ratio.cumsum()\n",
    "\n",
    "# plt.plot(range(1, len(explained_variance_ratio) + 1), cumulative_variance_ratio, marker='o')\n",
    "# plt.title(\"Variance expliquée cumulée\")\n",
    "# plt.xlabel(\"Nombre de composantes principales\")\n",
    "# plt.ylabel(\"Variance cumulée expliquée\")\n",
    "# plt.grid(True)\n",
    "# plt.show()\n",
    "\n",
    "# Vous pouvez maintenant décider combien de composantes principales vous souhaitez conserver en fonction de la variance expliquée\n",
    "\n",
    "# Par défaut, toutes les composantes principales sont conservées, mais vous pouvez spécifier un nombre si vous le souhaitez\n"
   ]
  },
  {
   "cell_type": "markdown",
   "id": "14747751",
   "metadata": {},
   "source": [
    "Si on veut garder une Variance Cumulée de 90% donc d'apérs le graphe on doit choisir 8 Composantes Pricipales !"
   ]
  },
  {
   "cell_type": "markdown",
   "id": "6da3a19f",
   "metadata": {},
   "source": [
    "### Joignant au rapport l'affichage des instances étiquetées par le code du pays suivant les facteurs 1 et 2, puis suivant les facteurs 1 et 3 de l'ACP."
   ]
  },
  {
   "cell_type": "code",
   "execution_count": 11,
   "id": "50a9a8a6",
   "metadata": {},
   "outputs": [
    {
     "data": {
      "image/png": "[encoded data removed]",
      "text/plain": [
       "<Figure size 1000x500 with 1 Axes>"
      ]
     },
     "metadata": {},
     "output_type": "display_data"
    },
    {
     "data": {
      "image/png": "[encoded data removed]",
      "text/plain": [
       "<Figure size 1000x500 with 1 Axes>"
      ]
     },
     "metadata": {},
     "output_type": "display_data"
    }
   ],
   "source": [
    "import matplotlib.pyplot as plt\n",
    "\n",
    "# Supposons que vous ayez effectué l'ACP et que vous ayez déjà les composantes principales dans \"components_df\"\n",
    "\n",
    "# Créez un graphique pour les facteurs 1 et 2\n",
    "plt.figure(figsize=(10, 5))\n",
    "plt.scatter(components_df['PC1'], components_df['PC2'])\n",
    "\n",
    "# Étiquetez les points avec le code du pays\n",
    "for i, country_code in enumerate(covid['country_code']):\n",
    "    plt.annotate(country_code, (components_df['PC1'][i], components_df['PC2'][i]))\n",
    "\n",
    "plt.title(\"ACP - Facteurs 1 et 2\")\n",
    "plt.xlabel(\"Facteur 1\")\n",
    "plt.ylabel(\"Facteur 2\")\n",
    "plt.grid(True)\n",
    "plt.show()\n",
    "\n",
    "# Répétez le processus pour les facteurs 1 et 3\n",
    "plt.figure(figsize=(10, 5))\n",
    "plt.scatter(components_df['PC1'], components_df['PC3'])\n",
    "\n",
    "# Étiquetez les points avec le code du pays\n",
    "for i, country_code in enumerate(covid['country_code']):\n",
    "    plt.annotate(country_code, (components_df['PC1'][i], components_df['PC3'][i]))\n",
    "\n",
    "plt.title(\"ACP - Facteurs 1 et 3\")\n",
    "plt.xlabel(\"Facteur 1\")\n",
    "plt.ylabel(\"Facteur 3\")\n",
    "plt.grid(True)\n",
    "plt.show()\n"
   ]
  },
  {
   "cell_type": "markdown",
   "id": "ffa4625e",
   "metadata": {},
   "source": [
    "### Tracer le graphique de la variance expliquée en fonction du rang du facteur (composante principale) :\n"
   ]
  },
  {
   "cell_type": "code",
   "execution_count": 12,
   "id": "bd6e00e8",
   "metadata": {},
   "outputs": [
    {
     "data": {
      "image/png": "[encoded data removed]",
      "text/plain": [
       "<Figure size 640x480 with 1 Axes>"
      ]
     },
     "metadata": {},
     "output_type": "display_data"
    }
   ],
   "source": [
    "import numpy as np\n",
    "import matplotlib.pyplot as plt\n",
    "\n",
    "# 1. Calculer les valeurs propres (variance expliquée)\n",
    "eigenvalues = pca.explained_variance_\n",
    "\n",
    "# 2. Afficher la variance expliquée cumulative en fonction du nombre de facteurs\n",
    "cumulative_variance = np.cumsum(eigenvalues) / np.sum(eigenvalues)\n",
    "plt.plot(range(1, len(cumulative_variance) + 1), cumulative_variance, marker='o')\n",
    "plt.xlabel(\"Nombre de facteurs\")\n",
    "plt.ylabel(\"Variance expliquée cumulative\")\n",
    "plt.title(\"Variance expliquée cumulative en fonction du nombre de facteurs\")\n",
    "plt.grid(True)\n",
    "plt.show()"
   ]
  },
  {
   "cell_type": "code",
   "execution_count": null,
   "id": "cf86a9c6",
   "metadata": {},
   "outputs": [],
   "source": [
    "# import matplotlib.pyplot as plt\n",
    "\n",
    "# # Variance expliquée par chaque composante\n",
    "# explained_variance = pca.explained_variance_ratio_\n",
    "\n",
    "# # Créer le graphique de coude (scree plot)\n",
    "# plt.figure(figsize=(8, 4))\n",
    "# plt.plot(range(1, len(explained_variance) + 1), explained_variance, marker='o', linestyle='--')\n",
    "# plt.title(\"Variance expliquée en fonction du rang du facteur (Composantes principales)\")\n",
    "# plt.xlabel(\"Rang du facteur\")\n",
    "# plt.ylabel(\"Variance expliquée\")\n",
    "# plt.grid(True)\n",
    "# plt.show()\n"
   ]
  },
  {
   "cell_type": "markdown",
   "id": "2635236e",
   "metadata": {},
   "source": [
    "### Tracer le cercle de corrélation entre les facteurs et les variables originales. Pour cela, on peux utiliser les charges factorielles :"
   ]
  },
  {
   "cell_type": "code",
   "execution_count": 13,
   "id": "9e511f9a",
   "metadata": {},
   "outputs": [
    {
     "data": {
      "image/png": "[encoded data removed]",
      "text/plain": [
       "<Figure size 1500x1500 with 1 Axes>"
      ]
     },
     "metadata": {},
     "output_type": "display_data"
    }
   ],
   "source": [
    "# 3. Tracer le cercle de corrélation\n",
    "def plot_correlation_circle(pca, variables, axis_labels=None):\n",
    "    fig, ax = plt.subplots(figsize=(15, 15))\n",
    "    if not axis_labels:\n",
    "        axis_labels = [f\"Factor {i}\" for i in range(1, len(pca.components_) + 1)]\n",
    "    for i, (x, y) in enumerate(zip(pca.components_[0], pca.components_[1])):\n",
    "        ax.plot([0, x], [0, y], label=variables[i])\n",
    "        ax.text(x, y, variables[i], fontsize=12)\n",
    "    ax.set_aspect('equal', 'box')\n",
    "    ax.set_xlabel(axis_labels[0])\n",
    "    ax.set_ylabel(axis_labels[1])\n",
    "    ax.set_xlim(-1, 1)\n",
    "    ax.set_ylim(-1, 1)\n",
    "    ax.axhline(0, color='black',linewidth=0.5)\n",
    "    ax.axvline(0, color='black',linewidth=0.5)\n",
    "    ax.grid(color = 'gray', linestyle = '--', linewidth = 0.5)\n",
    "    ax.legend()\n",
    "\n",
    "# Les noms de variables correspondent à vos colonnes d'attributs\n",
    "variables = list(covid.columns)\n",
    "\n",
    "# Afficher le cercle de corrélation\n",
    "plot_correlation_circle(pca, variables)\n",
    "plt.title(\"Cercle de corrélation entre les facteurs et les variables originales\")\n",
    "plt.show()"
   ]
  },
  {
   "cell_type": "code",
   "execution_count": null,
   "id": "ed12160c",
   "metadata": {},
   "outputs": [],
   "source": [
    "# # Les charges factorielles représentent la corrélation entre les variables originales et les composantes principales\n",
    "# loadings = pca.components_\n",
    "\n",
    "# # Tracer le cercle de corrélation\n",
    "# plt.figure(figsize=(8, 8))\n",
    "# for i, (ex, ey) in enumerate(zip(loadings[0, :], loadings[1, :])):\n",
    "#     plt.arrow(0, 0, ex, ey, color='b', alpha=0.5)\n",
    "#     if abs(ex) > 0.2 or abs(ey) > 0.2:\n",
    "#         plt.text(ex * 1.15, ey * 1.15, X.columns[i], color='r', ha='center', va='center')\n",
    "# plt.xlim(-1, 1)\n",
    "# plt.ylim(-1, 1)\n",
    "# plt.title(\"Cercle de corrélation\")\n",
    "# plt.xlabel(\"Composante principale 1\")\n",
    "# plt.ylabel(\"Composante principale 2\")\n",
    "# plt.grid(True)\n",
    "# plt.show()\n"
   ]
  },
  {
   "cell_type": "markdown",
   "id": "a369a657",
   "metadata": {},
   "source": [
    "### 6- Clustering avec la méthode des k-moyennes"
   ]
  },
  {
   "cell_type": "code",
   "execution_count": null,
   "id": "800f1d2a",
   "metadata": {},
   "outputs": [],
   "source": [
    "covid.head()"
   ]
  },
  {
   "cell_type": "code",
   "execution_count": 14,
   "id": "c2f62ee6",
   "metadata": {},
   "outputs": [
    {
     "name": "stderr",
     "output_type": "stream",
     "text": [
      "C:\\Users\\samir\\AppData\\Local\\Programs\\Python\\Python311\\Lib\\site-packages\\sklearn\\cluster\\_kmeans.py:870: FutureWarning: The default value of `n_init` will change from 10 to 'auto' in 1.4. Set the value of `n_init` explicitly to suppress the warning\n",
      "  warnings.warn(\n"
     ]
    }
   ],
   "source": [
    "# Importez les bibliothèques nécessaires\n",
    "import pandas as pd\n",
    "from sklearn.cluster import KMeans\n",
    "import matplotlib.pyplot as plt\n",
    "from sklearn.preprocessing import StandardScaler\n",
    "\n",
    "# Chargez les données d'origine\n",
    "# data = pd.read_csv(\"votre_fichier_de_données.csv\")  # Remplacez par le chemin de votre fichier\n",
    "data = covid.drop(columns=[\"country\", \"country_code\"])\n",
    "\n",
    "# Choisissez un nombre k de clusters\n",
    "k = 5  # Choisissez un nombre approprié en fonction de vos besoins\n",
    "\n",
    "# Standardisez les données si nécessaire\n",
    "scaler = StandardScaler()\n",
    "data_scaled = scaler.fit_transform(data)  # Standardisation des données\n",
    "\n",
    "# Appliquez K-Means\n",
    "kmeans = KMeans(n_clusters=k, random_state=0)\n",
    "clusters = kmeans.fit_predict(data_scaled)\n",
    "\n",
    "# Ajoutez les informations sur les clusters à votre dataframe d'origine\n",
    "data[\"Cluster\"] = clusters"
   ]
  },
  {
   "cell_type": "code",
   "execution_count": 15,
   "id": "b2cbcf26",
   "metadata": {},
   "outputs": [
    {
     "data": {
      "image/png": "[encoded data removed]",
      "text/plain": [
       "<Figure size 640x480 with 1 Axes>"
      ]
     },
     "metadata": {},
     "output_type": "display_data"
    }
   ],
   "source": [
    "# Visualisez les résultats du clustering\n",
    "for cluster in range(k):\n",
    "    cluster_data = data[data[\"Cluster\"] == cluster]\n",
    "    plt.scatter(cluster_data[\"vaccine_2021-winter\"], cluster_data[\"deaths_rate-2021-winter\"], label=f'Cluster {cluster}')\n",
    "\n",
    "plt.xlabel(\"vaccine_2021-winter\")\n",
    "plt.ylabel(\"deaths_rate-2021-winter\")\n",
    "plt.title(f\"Clustering des données en {k} clusters\")\n",
    "plt.legend()\n",
    "plt.show()"
   ]
  },
  {
   "cell_type": "code",
   "execution_count": 16,
   "id": "b571c288",
   "metadata": {},
   "outputs": [
    {
     "data": {
      "text/plain": [
       "0     3\n",
       "1     1\n",
       "2     0\n",
       "3     2\n",
       "4     4\n",
       "5     2\n",
       "6     4\n",
       "7     3\n",
       "8     3\n",
       "9     1\n",
       "10    3\n",
       "11    2\n",
       "12    2\n",
       "13    3\n",
       "14    3\n",
       "15    1\n",
       "16    2\n",
       "17    3\n",
       "18    2\n",
       "19    4\n",
       "20    3\n",
       "21    1\n",
       "22    3\n",
       "23    2\n",
       "24    1\n",
       "25    0\n",
       "26    2\n",
       "27    2\n",
       "28    1\n",
       "29    1\n",
       "Name: Cluster, dtype: int32"
      ]
     },
     "execution_count": 16,
     "metadata": {},
     "output_type": "execute_result"
    }
   ],
   "source": [
    "# Afficher les résultats du clustering\n",
    "data[\"Cluster\"]\n"
   ]
  },
  {
   "cell_type": "markdown",
   "id": "479266bf",
   "metadata": {},
   "source": [
    "### Tracez la variation du R2 pour k variant de 2 à 20"
   ]
  },
  {
   "cell_type": "markdown",
   "id": "76db712f",
   "metadata": {},
   "source": [
    "### Autre Methode (l'inertie)"
   ]
  },
  {
   "cell_type": "code",
   "execution_count": 18,
   "id": "b5aa2a78",
   "metadata": {},
   "outputs": [
    {
     "name": "stderr",
     "output_type": "stream",
     "text": [
      "C:\\Users\\samir\\AppData\\Local\\Programs\\Python\\Python311\\Lib\\site-packages\\sklearn\\cluster\\_kmeans.py:870: FutureWarning: The default value of `n_init` will change from 10 to 'auto' in 1.4. Set the value of `n_init` explicitly to suppress the warning\n",
      "  warnings.warn(\n",
      "C:\\Users\\samir\\AppData\\Local\\Programs\\Python\\Python311\\Lib\\site-packages\\sklearn\\cluster\\_kmeans.py:870: FutureWarning: The default value of `n_init` will change from 10 to 'auto' in 1.4. Set the value of `n_init` explicitly to suppress the warning\n",
      "  warnings.warn(\n",
      "C:\\Users\\samir\\AppData\\Local\\Programs\\Python\\Python311\\Lib\\site-packages\\sklearn\\cluster\\_kmeans.py:870: FutureWarning: The default value of `n_init` will change from 10 to 'auto' in 1.4. Set the value of `n_init` explicitly to suppress the warning\n",
      "  warnings.warn(\n",
      "C:\\Users\\samir\\AppData\\Local\\Programs\\Python\\Python311\\Lib\\site-packages\\sklearn\\cluster\\_kmeans.py:870: FutureWarning: The default value of `n_init` will change from 10 to 'auto' in 1.4. Set the value of `n_init` explicitly to suppress the warning\n",
      "  warnings.warn(\n",
      "C:\\Users\\samir\\AppData\\Local\\Programs\\Python\\Python311\\Lib\\site-packages\\sklearn\\cluster\\_kmeans.py:870: FutureWarning: The default value of `n_init` will change from 10 to 'auto' in 1.4. Set the value of `n_init` explicitly to suppress the warning\n",
      "  warnings.warn(\n",
      "C:\\Users\\samir\\AppData\\Local\\Programs\\Python\\Python311\\Lib\\site-packages\\sklearn\\cluster\\_kmeans.py:870: FutureWarning: The default value of `n_init` will change from 10 to 'auto' in 1.4. Set the value of `n_init` explicitly to suppress the warning\n",
      "  warnings.warn(\n",
      "C:\\Users\\samir\\AppData\\Local\\Programs\\Python\\Python311\\Lib\\site-packages\\sklearn\\cluster\\_kmeans.py:870: FutureWarning: The default value of `n_init` will change from 10 to 'auto' in 1.4. Set the value of `n_init` explicitly to suppress the warning\n",
      "  warnings.warn(\n",
      "C:\\Users\\samir\\AppData\\Local\\Programs\\Python\\Python311\\Lib\\site-packages\\sklearn\\cluster\\_kmeans.py:870: FutureWarning: The default value of `n_init` will change from 10 to 'auto' in 1.4. Set the value of `n_init` explicitly to suppress the warning\n",
      "  warnings.warn(\n",
      "C:\\Users\\samir\\AppData\\Local\\Programs\\Python\\Python311\\Lib\\site-packages\\sklearn\\cluster\\_kmeans.py:870: FutureWarning: The default value of `n_init` will change from 10 to 'auto' in 1.4. Set the value of `n_init` explicitly to suppress the warning\n",
      "  warnings.warn(\n",
      "C:\\Users\\samir\\AppData\\Local\\Programs\\Python\\Python311\\Lib\\site-packages\\sklearn\\cluster\\_kmeans.py:870: FutureWarning: The default value of `n_init` will change from 10 to 'auto' in 1.4. Set the value of `n_init` explicitly to suppress the warning\n",
      "  warnings.warn(\n",
      "C:\\Users\\samir\\AppData\\Local\\Programs\\Python\\Python311\\Lib\\site-packages\\sklearn\\cluster\\_kmeans.py:870: FutureWarning: The default value of `n_init` will change from 10 to 'auto' in 1.4. Set the value of `n_init` explicitly to suppress the warning\n",
      "  warnings.warn(\n",
      "C:\\Users\\samir\\AppData\\Local\\Programs\\Python\\Python311\\Lib\\site-packages\\sklearn\\cluster\\_kmeans.py:870: FutureWarning: The default value of `n_init` will change from 10 to 'auto' in 1.4. Set the value of `n_init` explicitly to suppress the warning\n",
      "  warnings.warn(\n",
      "C:\\Users\\samir\\AppData\\Local\\Programs\\Python\\Python311\\Lib\\site-packages\\sklearn\\cluster\\_kmeans.py:870: FutureWarning: The default value of `n_init` will change from 10 to 'auto' in 1.4. Set the value of `n_init` explicitly to suppress the warning\n",
      "  warnings.warn(\n",
      "C:\\Users\\samir\\AppData\\Local\\Programs\\Python\\Python311\\Lib\\site-packages\\sklearn\\cluster\\_kmeans.py:870: FutureWarning: The default value of `n_init` will change from 10 to 'auto' in 1.4. Set the value of `n_init` explicitly to suppress the warning\n",
      "  warnings.warn(\n",
      "C:\\Users\\samir\\AppData\\Local\\Programs\\Python\\Python311\\Lib\\site-packages\\sklearn\\cluster\\_kmeans.py:870: FutureWarning: The default value of `n_init` will change from 10 to 'auto' in 1.4. Set the value of `n_init` explicitly to suppress the warning\n",
      "  warnings.warn(\n",
      "C:\\Users\\samir\\AppData\\Local\\Programs\\Python\\Python311\\Lib\\site-packages\\sklearn\\cluster\\_kmeans.py:870: FutureWarning: The default value of `n_init` will change from 10 to 'auto' in 1.4. Set the value of `n_init` explicitly to suppress the warning\n",
      "  warnings.warn(\n",
      "C:\\Users\\samir\\AppData\\Local\\Programs\\Python\\Python311\\Lib\\site-packages\\sklearn\\cluster\\_kmeans.py:870: FutureWarning: The default value of `n_init` will change from 10 to 'auto' in 1.4. Set the value of `n_init` explicitly to suppress the warning\n",
      "  warnings.warn(\n",
      "C:\\Users\\samir\\AppData\\Local\\Programs\\Python\\Python311\\Lib\\site-packages\\sklearn\\cluster\\_kmeans.py:870: FutureWarning: The default value of `n_init` will change from 10 to 'auto' in 1.4. Set the value of `n_init` explicitly to suppress the warning\n",
      "  warnings.warn(\n",
      "C:\\Users\\samir\\AppData\\Local\\Programs\\Python\\Python311\\Lib\\site-packages\\sklearn\\cluster\\_kmeans.py:870: FutureWarning: The default value of `n_init` will change from 10 to 'auto' in 1.4. Set the value of `n_init` explicitly to suppress the warning\n",
      "  warnings.warn(\n"
     ]
    },
    {
     "data": {
      "image/png": "[encoded data removed]",
      "text/plain": [
       "<Figure size 1000x600 with 1 Axes>"
      ]
     },
     "metadata": {},
     "output_type": "display_data"
    }
   ],
   "source": [
    "from sklearn.cluster import KMeans\n",
    "import matplotlib.pyplot as plt\n",
    "\n",
    "# Sélection des données d'origine (sans ACP)\n",
    "X_original = covid.drop(columns=[\"country\", \"country_code\"])\n",
    "\n",
    "# Créer une liste pour stocker les valeurs de R2\n",
    "inertia = []\n",
    "\n",
    "# Tester différents nombres de clusters (k de 2 à 20)\n",
    "for k in range(2, 21):\n",
    "    kmeans = KMeans(n_clusters=k, random_state=0)\n",
    "    kmeans.fit(X_original)\n",
    "    inertia.append(kmeans.inertia_)\n",
    "\n",
    "# Tracer la variation de R2 en fonction de k\n",
    "plt.figure(figsize=(10, 6))\n",
    "plt.plot(range(2, 21), inertia, marker='o', linestyle='--')\n",
    "plt.xlabel('Nombre de clusters (k)')\n",
    "plt.ylabel('Inertie (R2)')\n",
    "plt.title('Méthode du coude pour déterminer le nombre optimal de clusters')\n",
    "plt.grid(True)\n",
    "plt.show()\n"
   ]
  },
  {
   "cell_type": "markdown",
   "id": "a9087181",
   "metadata": {},
   "source": [
    "### En fixant k à 8, commentez les profils des groupes contenant la France, le Danemark et la Bulgarie"
   ]
  },
  {
   "cell_type": "code",
   "execution_count": 21,
   "id": "30c9d90a",
   "metadata": {},
   "outputs": [
    {
     "data": {
      "text/html": [
       "<div>\n",
       "<style scoped>\n",
       "    .dataframe tbody tr th:only-of-type {\n",
       "        vertical-align: middle;\n",
       "    }\n",
       "\n",
       "    .dataframe tbody tr th {\n",
       "        vertical-align: top;\n",
       "    }\n",
       "\n",
       "    .dataframe thead th {\n",
       "        text-align: right;\n",
       "    }\n",
       "</style>\n",
       "<table border=\"1\" class=\"dataframe\">\n",
       "  <thead>\n",
       "    <tr style=\"text-align: right;\">\n",
       "      <th></th>\n",
       "      <th>vaccine_2021-winter</th>\n",
       "      <th>vaccine_2021-spring</th>\n",
       "      <th>vaccine_2021-summer</th>\n",
       "      <th>vaccine_2021-fall</th>\n",
       "      <th>vaccine_2022-winter</th>\n",
       "      <th>testing_rate_2020</th>\n",
       "      <th>testing_rate_2021</th>\n",
       "      <th>deaths_rate-2020-spring</th>\n",
       "      <th>deaths_rate-2020-summer</th>\n",
       "      <th>deaths_rate-2020-fall</th>\n",
       "      <th>deaths_rate-2021-winter</th>\n",
       "      <th>deaths_rate-2021-spring</th>\n",
       "      <th>deaths_rate-2021-summer</th>\n",
       "      <th>deaths_rate-2021-fall</th>\n",
       "      <th>deaths_rate-2022-winter</th>\n",
       "    </tr>\n",
       "  </thead>\n",
       "  <tbody>\n",
       "    <tr>\n",
       "      <th>0</th>\n",
       "      <td>79.914716</td>\n",
       "      <td>569.629429</td>\n",
       "      <td>508.750302</td>\n",
       "      <td>414.215874</td>\n",
       "      <td>308.340666</td>\n",
       "      <td>902.69</td>\n",
       "      <td>32690.31</td>\n",
       "      <td>11.978</td>\n",
       "      <td>1.167</td>\n",
       "      <td>42.830</td>\n",
       "      <td>89.894</td>\n",
       "      <td>31.633</td>\n",
       "      <td>2.748</td>\n",
       "      <td>31.872</td>\n",
       "      <td>31.218</td>\n",
       "    </tr>\n",
       "    <tr>\n",
       "      <th>1</th>\n",
       "      <td>75.571927</td>\n",
       "      <td>590.347531</td>\n",
       "      <td>662.993776</td>\n",
       "      <td>232.407806</td>\n",
       "      <td>394.821149</td>\n",
       "      <td>1314.77</td>\n",
       "      <td>3192.26</td>\n",
       "      <td>123.405</td>\n",
       "      <td>7.671</td>\n",
       "      <td>86.533</td>\n",
       "      <td>76.306</td>\n",
       "      <td>34.566</td>\n",
       "      <td>4.847</td>\n",
       "      <td>22.805</td>\n",
       "      <td>36.125</td>\n",
       "    </tr>\n",
       "    <tr>\n",
       "      <th>2</th>\n",
       "      <td>30.561109</td>\n",
       "      <td>180.101164</td>\n",
       "      <td>126.265450</td>\n",
       "      <td>147.674410</td>\n",
       "      <td>117.707994</td>\n",
       "      <td>489.46</td>\n",
       "      <td>1553.12</td>\n",
       "      <td>2.988</td>\n",
       "      <td>9.738</td>\n",
       "      <td>59.965</td>\n",
       "      <td>148.690</td>\n",
       "      <td>158.897</td>\n",
       "      <td>25.650</td>\n",
       "      <td>210.912</td>\n",
       "      <td>160.200</td>\n",
       "    </tr>\n",
       "    <tr>\n",
       "      <th>3</th>\n",
       "      <td>60.068282</td>\n",
       "      <td>436.374815</td>\n",
       "      <td>329.436827</td>\n",
       "      <td>220.182028</td>\n",
       "      <td>195.412459</td>\n",
       "      <td>506.42</td>\n",
       "      <td>2185.70</td>\n",
       "      <td>3.829</td>\n",
       "      <td>2.900</td>\n",
       "      <td>51.368</td>\n",
       "      <td>149.556</td>\n",
       "      <td>90.558</td>\n",
       "      <td>11.278</td>\n",
       "      <td>100.121</td>\n",
       "      <td>160.387</td>\n",
       "    </tr>\n",
       "    <tr>\n",
       "      <th>4</th>\n",
       "      <td>84.483759</td>\n",
       "      <td>635.675475</td>\n",
       "      <td>491.596331</td>\n",
       "      <td>261.548077</td>\n",
       "      <td>344.240179</td>\n",
       "      <td>1955.11</td>\n",
       "      <td>32100.15</td>\n",
       "      <td>4.331</td>\n",
       "      <td>0.693</td>\n",
       "      <td>6.237</td>\n",
       "      <td>40.021</td>\n",
       "      <td>26.946</td>\n",
       "      <td>29.712</td>\n",
       "      <td>13.773</td>\n",
       "      <td>35.895</td>\n",
       "    </tr>\n",
       "  </tbody>\n",
       "</table>\n",
       "</div>"
      ],
      "text/plain": [
       "   vaccine_2021-winter  vaccine_2021-spring  vaccine_2021-summer  \\\n",
       "0            79.914716           569.629429           508.750302   \n",
       "1            75.571927           590.347531           662.993776   \n",
       "2            30.561109           180.101164           126.265450   \n",
       "3            60.068282           436.374815           329.436827   \n",
       "4            84.483759           635.675475           491.596331   \n",
       "\n",
       "   vaccine_2021-fall  vaccine_2022-winter  testing_rate_2020  \\\n",
       "0         414.215874           308.340666             902.69   \n",
       "1         232.407806           394.821149            1314.77   \n",
       "2         147.674410           117.707994             489.46   \n",
       "3         220.182028           195.412459             506.42   \n",
       "4         261.548077           344.240179            1955.11   \n",
       "\n",
       "   testing_rate_2021  deaths_rate-2020-spring  deaths_rate-2020-summer  \\\n",
       "0           32690.31                   11.978                    1.167   \n",
       "1            3192.26                  123.405                    7.671   \n",
       "2            1553.12                    2.988                    9.738   \n",
       "3            2185.70                    3.829                    2.900   \n",
       "4           32100.15                    4.331                    0.693   \n",
       "\n",
       "   deaths_rate-2020-fall  deaths_rate-2021-winter  deaths_rate-2021-spring  \\\n",
       "0                 42.830                   89.894                   31.633   \n",
       "1                 86.533                   76.306                   34.566   \n",
       "2                 59.965                  148.690                  158.897   \n",
       "3                 51.368                  149.556                   90.558   \n",
       "4                  6.237                   40.021                   26.946   \n",
       "\n",
       "   deaths_rate-2021-summer  deaths_rate-2021-fall  deaths_rate-2022-winter  \n",
       "0                    2.748                 31.872                   31.218  \n",
       "1                    4.847                 22.805                   36.125  \n",
       "2                   25.650                210.912                  160.200  \n",
       "3                   11.278                100.121                  160.387  \n",
       "4                   29.712                 13.773                   35.895  "
      ]
     },
     "execution_count": 21,
     "metadata": {},
     "output_type": "execute_result"
    }
   ],
   "source": [
    "# Sélection des données d'origine (sans ACP)\n",
    "new_data = data.copy()\n",
    "new_data = new_data.drop(\"Cluster\",axis=1)\n",
    "new_data.head()"
   ]
  },
  {
   "cell_type": "code",
   "execution_count": 27,
   "id": "64e03aa4",
   "metadata": {},
   "outputs": [
    {
     "name": "stderr",
     "output_type": "stream",
     "text": [
      "C:\\Users\\samir\\AppData\\Local\\Programs\\Python\\Python311\\Lib\\site-packages\\sklearn\\cluster\\_kmeans.py:870: FutureWarning: The default value of `n_init` will change from 10 to 'auto' in 1.4. Set the value of `n_init` explicitly to suppress the warning\n",
      "  warnings.warn(\n"
     ]
    },
    {
     "data": {
      "text/plain": [
       "0     4\n",
       "1     3\n",
       "2     0\n",
       "3     0\n",
       "4     4\n",
       "5     5\n",
       "6     1\n",
       "7     3\n",
       "8     0\n",
       "9     3\n",
       "10    0\n",
       "11    2\n",
       "12    0\n",
       "13    7\n",
       "14    3\n",
       "15    3\n",
       "16    3\n",
       "17    3\n",
       "18    3\n",
       "19    6\n",
       "20    7\n",
       "21    3\n",
       "22    3\n",
       "23    0\n",
       "24    3\n",
       "25    0\n",
       "26    3\n",
       "27    5\n",
       "28    0\n",
       "29    0\n",
       "Name: cluster, dtype: int32"
      ]
     },
     "execution_count": 27,
     "metadata": {},
     "output_type": "execute_result"
    }
   ],
   "source": [
    "from sklearn.cluster import KMeans\n",
    "\n",
    "\n",
    "# Nombre de clusters souhaité (k)\n",
    "k = 8\n",
    "\n",
    "# Appliquer K-Means\n",
    "kmeans = KMeans(n_clusters=k, random_state=0)\n",
    "new_data[\"cluster\"] = kmeans.fit_predict(new_data)\n",
    "\n",
    "# Afficher les résultats du clustering\n",
    "new_data[\"cluster\"]\n"
   ]
  },
  {
   "cell_type": "code",
   "execution_count": 33,
   "id": "9693c8be",
   "metadata": {},
   "outputs": [
    {
     "name": "stdout",
     "output_type": "stream",
     "text": [
      "france cluster:  3\n",
      "\n",
      "Denmark cluster:  1\n",
      "\n",
      "Bulgaria cluster:  0 \n",
      "\n",
      "Pays du même cluster que la France:\n",
      "['Belgium', 'Estonia', 'France', 'Ireland', 'Italy', 'Latvia', 'Liechtenstein', 'Lithuania', 'Netherlands', 'Norway', 'Portugal', 'Slovakia']\n",
      "Pays du même cluster que le Danemark:\n",
      "['Denmark']\n",
      "Pays du même cluster que la Bulgarie:\n",
      "['Bulgaria', 'Croatia', 'Finland', 'Germany', 'Hungary', 'Poland', 'Romania', 'Spain', 'Sweden']\n"
     ]
    }
   ],
   "source": [
    "from sklearn.cluster import KMeans\n",
    "\n",
    "\n",
    "\n",
    "cluster_labels = new_data[\"cluster\"]\n",
    "\n",
    "# Créez un DataFrame avec les pays et leurs clusters\n",
    "clustered_data = pd.DataFrame({'Country': covid['country'], 'Cluster': cluster_labels})\n",
    "\n",
    "# Déterminez le cluster de la France, du Danemark et de la Bulgarie\n",
    "france_cluster   = clustered_data[clustered_data['Country'] == 'France']['Cluster'].values[0]\n",
    "denmark_cluster  = clustered_data[clustered_data['Country'] == 'Denmark']['Cluster'].values[0]\n",
    "bulgaria_cluster = clustered_data[clustered_data['Country'] == 'Bulgaria']['Cluster'].values[0]\n",
    "print('france cluster: ',france_cluster)\n",
    "print('\\nDenmark cluster: ',denmark_cluster)\n",
    "print('\\nBulgaria cluster: ' ,bulgaria_cluster,'\\n')\n",
    "\n",
    "# Identifiez les pays du même cluster que la France, le Danemark et la Bulgarie\n",
    "france_similar = clustered_data[clustered_data['Cluster'] == france_cluster]['Country'].tolist()\n",
    "denmark_similar = clustered_data[clustered_data['Cluster'] == denmark_cluster]['Country'].tolist()\n",
    "bulgaria_similar = clustered_data[clustered_data['Cluster'] == bulgaria_cluster]['Country'].tolist()\n",
    "\n",
    "# Affichez les résultats\n",
    "print(\"Pays du même cluster que la France:\")\n",
    "print(france_similar)\n",
    "\n",
    "print(\"Pays du même cluster que le Danemark:\")\n",
    "print(denmark_similar)\n",
    "\n",
    "print(\"Pays du même cluster que la Bulgarie:\")\n",
    "print(bulgaria_similar)\n"
   ]
  },
  {
   "cell_type": "code",
   "execution_count": 42,
   "id": "9c0ce27f",
   "metadata": {},
   "outputs": [
    {
     "name": "stdout",
     "output_type": "stream",
     "text": [
      "Cluster 0:\n",
      "vaccine_2021-winter          76.106085\n",
      "vaccine_2021-spring         489.857452\n",
      "vaccine_2021-summer         407.203644\n",
      "vaccine_2021-fall           228.103141\n",
      "vaccine_2022-winter         241.454082\n",
      "testing_rate_2020           701.288889\n",
      "testing_rate_2021          1588.733333\n",
      "deaths_rate-2020-spring      23.837333\n",
      "deaths_rate-2020-summer       7.064889\n",
      "deaths_rate-2020-fall        42.496000\n",
      "deaths_rate-2021-winter     105.112222\n",
      "deaths_rate-2021-spring      80.687667\n",
      "deaths_rate-2021-summer       8.268222\n",
      "deaths_rate-2021-fall        72.975000\n",
      "deaths_rate-2022-winter      81.435333\n",
      "cluster                       0.000000\n",
      "dtype: float64\n",
      "\n",
      "\n",
      "Cluster 1:\n",
      "vaccine_2021-winter           98.573134\n",
      "vaccine_2021-spring          533.186908\n",
      "vaccine_2021-summer          757.946872\n",
      "vaccine_2021-fall            215.124160\n",
      "vaccine_2022-winter          466.937947\n",
      "testing_rate_2020           3215.000000\n",
      "testing_rate_2021          27700.480000\n",
      "deaths_rate-2020-spring        4.677000\n",
      "deaths_rate-2020-summer        1.453000\n",
      "deaths_rate-2020-fall          4.848000\n",
      "deaths_rate-2021-winter       40.768000\n",
      "deaths_rate-2021-spring        4.109000\n",
      "deaths_rate-2021-summer        1.797000\n",
      "deaths_rate-2021-fall          8.561000\n",
      "deaths_rate-2022-winter       28.509000\n",
      "cluster                        1.000000\n",
      "dtype: float64\n",
      "\n",
      "\n",
      "Cluster 3:\n",
      "vaccine_2021-winter          77.732608\n",
      "vaccine_2021-spring         514.897046\n",
      "vaccine_2021-summer         560.899837\n",
      "vaccine_2021-fall           244.247792\n",
      "vaccine_2022-winter         343.130322\n",
      "testing_rate_2020           973.212500\n",
      "testing_rate_2021          3325.208333\n",
      "deaths_rate-2020-spring      33.642750\n",
      "deaths_rate-2020-summer       2.878583\n",
      "deaths_rate-2020-fall        33.725333\n",
      "deaths_rate-2021-winter     104.105083\n",
      "deaths_rate-2021-spring      44.806750\n",
      "deaths_rate-2021-summer       7.343167\n",
      "deaths_rate-2021-fall        43.203667\n",
      "deaths_rate-2022-winter      51.703000\n",
      "cluster                       3.000000\n",
      "dtype: float64\n",
      "\n",
      "\n"
     ]
    }
   ],
   "source": [
    "import pandas as pd\n",
    "\n",
    "# Groupez les données par cluster\n",
    "cluster_groups = new_data.groupby('cluster')\n",
    "\n",
    "# Sélectionnez les clusters que vous voulez (0, 1, 3) en utilisant .get_group()\n",
    "selected_clusters = [0, 1, 3]\n",
    "\n",
    "# Pour chaque cluster sélectionné, calculez la moyenne ou les statistiques que vous souhaitez décrire\n",
    "for cluster in selected_clusters:\n",
    "    if cluster in cluster_groups.groups:\n",
    "        cluster_data = cluster_groups.get_group(cluster)\n",
    "        cluster_description = cluster_data.mean()  # Par exemple, en utilisant la moyenne\n",
    "        \n",
    "        # Imprimez les descriptions de chaque cluster\n",
    "        print(f\"Cluster {cluster}:\")\n",
    "        print(cluster_description)\n",
    "        print(\"\\n\")\n",
    "    else:\n",
    "        print(f\"Cluster {cluster} n'existe pas dans les données.\")\n"
   ]
  },
  {
   "cell_type": "markdown",
   "id": "40345ffa",
   "metadata": {},
   "source": [
    "## 1.2 Recherche de règles d'association\n"
   ]
  },
  {
   "cell_type": "markdown",
   "id": "3568b82e",
   "metadata": {},
   "source": [
    "### Ouvrez les données à l'aide de la bibliothèque pandas. "
   ]
  },
  {
   "cell_type": "code",
   "execution_count": 9,
   "id": "9ceb7076",
   "metadata": {
    "scrolled": true
   },
   "outputs": [
    {
     "data": {
      "text/html": [
       "<div>\n",
       "<style scoped>\n",
       "    .dataframe tbody tr th:only-of-type {\n",
       "        vertical-align: middle;\n",
       "    }\n",
       "\n",
       "    .dataframe tbody tr th {\n",
       "        vertical-align: top;\n",
       "    }\n",
       "\n",
       "    .dataframe thead th {\n",
       "        text-align: right;\n",
       "    }\n",
       "</style>\n",
       "<table border=\"1\" class=\"dataframe\">\n",
       "  <thead>\n",
       "    <tr style=\"text-align: right;\">\n",
       "      <th></th>\n",
       "      <th>department1</th>\n",
       "      <th>department2</th>\n",
       "      <th>department3</th>\n",
       "      <th>department4</th>\n",
       "      <th>department5</th>\n",
       "      <th>department6</th>\n",
       "      <th>department7</th>\n",
       "      <th>department8</th>\n",
       "      <th>department9</th>\n",
       "      <th>grocery misc</th>\n",
       "      <th>...</th>\n",
       "      <th>department208</th>\n",
       "      <th>department209</th>\n",
       "      <th>department210</th>\n",
       "      <th>department211</th>\n",
       "      <th>department212</th>\n",
       "      <th>department213</th>\n",
       "      <th>department214</th>\n",
       "      <th>department215</th>\n",
       "      <th>department216</th>\n",
       "      <th>total</th>\n",
       "    </tr>\n",
       "  </thead>\n",
       "  <tbody>\n",
       "    <tr>\n",
       "      <th>4622</th>\n",
       "      <td>?</td>\n",
       "      <td>?</td>\n",
       "      <td>?</td>\n",
       "      <td>?</td>\n",
       "      <td>?</td>\n",
       "      <td>?</td>\n",
       "      <td>?</td>\n",
       "      <td>?</td>\n",
       "      <td>?</td>\n",
       "      <td>?</td>\n",
       "      <td>...</td>\n",
       "      <td>?</td>\n",
       "      <td>?</td>\n",
       "      <td>?</td>\n",
       "      <td>?</td>\n",
       "      <td>?</td>\n",
       "      <td>?</td>\n",
       "      <td>?</td>\n",
       "      <td>?</td>\n",
       "      <td>?</td>\n",
       "      <td>low</td>\n",
       "    </tr>\n",
       "    <tr>\n",
       "      <th>4623</th>\n",
       "      <td>?</td>\n",
       "      <td>?</td>\n",
       "      <td>?</td>\n",
       "      <td>t</td>\n",
       "      <td>?</td>\n",
       "      <td>?</td>\n",
       "      <td>?</td>\n",
       "      <td>?</td>\n",
       "      <td>?</td>\n",
       "      <td>?</td>\n",
       "      <td>...</td>\n",
       "      <td>?</td>\n",
       "      <td>?</td>\n",
       "      <td>?</td>\n",
       "      <td>?</td>\n",
       "      <td>?</td>\n",
       "      <td>?</td>\n",
       "      <td>?</td>\n",
       "      <td>?</td>\n",
       "      <td>?</td>\n",
       "      <td>high</td>\n",
       "    </tr>\n",
       "    <tr>\n",
       "      <th>4624</th>\n",
       "      <td>?</td>\n",
       "      <td>?</td>\n",
       "      <td>?</td>\n",
       "      <td>?</td>\n",
       "      <td>?</td>\n",
       "      <td>?</td>\n",
       "      <td>?</td>\n",
       "      <td>?</td>\n",
       "      <td>?</td>\n",
       "      <td>?</td>\n",
       "      <td>...</td>\n",
       "      <td>?</td>\n",
       "      <td>?</td>\n",
       "      <td>?</td>\n",
       "      <td>?</td>\n",
       "      <td>?</td>\n",
       "      <td>?</td>\n",
       "      <td>?</td>\n",
       "      <td>?</td>\n",
       "      <td>?</td>\n",
       "      <td>low</td>\n",
       "    </tr>\n",
       "    <tr>\n",
       "      <th>4625</th>\n",
       "      <td>?</td>\n",
       "      <td>?</td>\n",
       "      <td>?</td>\n",
       "      <td>?</td>\n",
       "      <td>?</td>\n",
       "      <td>?</td>\n",
       "      <td>?</td>\n",
       "      <td>?</td>\n",
       "      <td>?</td>\n",
       "      <td>?</td>\n",
       "      <td>...</td>\n",
       "      <td>?</td>\n",
       "      <td>?</td>\n",
       "      <td>?</td>\n",
       "      <td>?</td>\n",
       "      <td>?</td>\n",
       "      <td>?</td>\n",
       "      <td>?</td>\n",
       "      <td>?</td>\n",
       "      <td>?</td>\n",
       "      <td>low</td>\n",
       "    </tr>\n",
       "    <tr>\n",
       "      <th>4626</th>\n",
       "      <td>t</td>\n",
       "      <td>?</td>\n",
       "      <td>?</td>\n",
       "      <td>?</td>\n",
       "      <td>?</td>\n",
       "      <td>?</td>\n",
       "      <td>?</td>\n",
       "      <td>?</td>\n",
       "      <td>?</td>\n",
       "      <td>?</td>\n",
       "      <td>...</td>\n",
       "      <td>?</td>\n",
       "      <td>?</td>\n",
       "      <td>?</td>\n",
       "      <td>?</td>\n",
       "      <td>?</td>\n",
       "      <td>?</td>\n",
       "      <td>?</td>\n",
       "      <td>?</td>\n",
       "      <td>?</td>\n",
       "      <td>high</td>\n",
       "    </tr>\n",
       "  </tbody>\n",
       "</table>\n",
       "<p>5 rows × 217 columns</p>\n",
       "</div>"
      ],
      "text/plain": [
       "     department1 department2 department3 department4 department5 department6  \\\n",
       "4622           ?           ?           ?           ?           ?           ?   \n",
       "4623           ?           ?           ?           t           ?           ?   \n",
       "4624           ?           ?           ?           ?           ?           ?   \n",
       "4625           ?           ?           ?           ?           ?           ?   \n",
       "4626           t           ?           ?           ?           ?           ?   \n",
       "\n",
       "     department7 department8 department9 grocery misc  ... department208  \\\n",
       "4622           ?           ?           ?            ?  ...             ?   \n",
       "4623           ?           ?           ?            ?  ...             ?   \n",
       "4624           ?           ?           ?            ?  ...             ?   \n",
       "4625           ?           ?           ?            ?  ...             ?   \n",
       "4626           ?           ?           ?            ?  ...             ?   \n",
       "\n",
       "     department209 department210 department211 department212 department213  \\\n",
       "4622             ?             ?             ?             ?             ?   \n",
       "4623             ?             ?             ?             ?             ?   \n",
       "4624             ?             ?             ?             ?             ?   \n",
       "4625             ?             ?             ?             ?             ?   \n",
       "4626             ?             ?             ?             ?             ?   \n",
       "\n",
       "     department214 department215 department216 total  \n",
       "4622             ?             ?             ?   low  \n",
       "4623             ?             ?             ?  high  \n",
       "4624             ?             ?             ?   low  \n",
       "4625             ?             ?             ?   low  \n",
       "4626             ?             ?             ?  high  \n",
       "\n",
       "[5 rows x 217 columns]"
      ]
     },
     "execution_count": 9,
     "metadata": {},
     "output_type": "execute_result"
    }
   ],
   "source": [
    "import pandas as pd\n",
    "\n",
    "# Charger les données\n",
    "supermarket = pd.read_csv(\"supermarket.csv\")\n",
    "supermarket.tail()"
   ]
  },
  {
   "cell_type": "code",
   "execution_count": 10,
   "id": "34be8fd6",
   "metadata": {},
   "outputs": [
    {
     "data": {
      "text/plain": [
       "array(['high', 'low'], dtype=object)"
      ]
     },
     "execution_count": 10,
     "metadata": {},
     "output_type": "execute_result"
    }
   ],
   "source": [
    "supermarket['total'].unique()"
   ]
  },
  {
   "cell_type": "code",
   "execution_count": 11,
   "id": "c5b8af49",
   "metadata": {},
   "outputs": [
    {
     "name": "stdout",
     "output_type": "stream",
     "text": [
      "department1\n",
      "department2\n",
      "department3\n",
      "department4\n",
      "department5\n",
      "department6\n",
      "department7\n",
      "department8\n",
      "department9\n",
      "grocery misc\n",
      "department11\n",
      "baby needs\n",
      "bread and cake\n",
      "baking needs\n",
      "coupons\n",
      "juice-sat-cord-ms\n",
      "tea\n",
      "biscuits\n",
      "canned fish-meat\n",
      "canned fruit\n",
      "canned vegetables\n",
      "breakfast food\n",
      "cigs-tobacco pkts\n",
      "cigarette cartons\n",
      "cleaners-polishers\n",
      "coffee\n",
      "sauces-gravy-pkle\n",
      "confectionary\n",
      "puddings-deserts\n",
      "dishcloths-scour\n",
      "deod-disinfectant\n",
      "frozen foods\n",
      "razor blades\n",
      "fuels-garden aids\n",
      "spices\n",
      "jams-spreads\n",
      "insecticides\n",
      "pet foods\n",
      "laundry needs\n",
      "party snack foods\n",
      "tissues-paper prd\n",
      "wrapping\n",
      "dried vegetables\n",
      "pkt-canned soup\n",
      "soft drinks\n",
      "health food other\n",
      "beverages hot\n",
      "health&beauty misc\n",
      "deodorants-soap\n",
      "mens toiletries\n",
      "medicines\n",
      "haircare\n",
      "dental needs\n",
      "lotions-creams\n",
      "sanitary pads\n",
      "cough-cold-pain\n",
      "department57\n",
      "meat misc\n",
      "cheese\n",
      "chickens\n",
      "milk-cream\n",
      "cold-meats\n",
      "deli gourmet\n",
      "margarine\n",
      "salads\n",
      "small goods\n",
      "dairy foods\n",
      "fruit drinks\n",
      "delicatessen misc\n",
      "department70\n",
      "beef\n",
      "hogget\n",
      "lamb\n",
      "pet food\n",
      "pork\n",
      "poultry\n",
      "veal\n",
      "gourmet meat\n",
      "department79\n",
      "department80\n",
      "department81\n",
      "produce misc\n",
      "fruit\n",
      "plants\n",
      "potatoes\n",
      "vegetables\n",
      "flowers\n",
      "department88\n",
      "department89\n",
      "variety misc\n",
      "brushware\n",
      "electrical\n",
      "haberdashery\n",
      "kitchen\n",
      "manchester\n",
      "pantyhose\n",
      "plasticware\n",
      "department98\n",
      "stationary\n",
      "department100\n",
      "department101\n",
      "department102\n",
      "prepared meals\n",
      "preserving needs\n",
      "condiments\n",
      "cooking oils\n",
      "department107\n",
      "department108\n",
      "department109\n",
      "department110\n",
      "department111\n",
      "department112\n",
      "department113\n",
      "department114\n",
      "health food bulk\n",
      "department116\n",
      "department117\n",
      "department118\n",
      "department119\n",
      "department120\n",
      "bake off products\n",
      "department122\n",
      "department123\n",
      "department124\n",
      "department125\n",
      "department126\n",
      "department127\n",
      "department128\n",
      "department129\n",
      "department130\n",
      "small goods2\n",
      "offal\n",
      "mutton\n",
      "trim pork\n",
      "trim lamb\n",
      "imported cheese\n",
      "department137\n",
      "department138\n",
      "department139\n",
      "department140\n",
      "department141\n",
      "department142\n",
      "department143\n",
      "department144\n",
      "department145\n",
      "department146\n",
      "department147\n",
      "department148\n",
      "department149\n",
      "department150\n",
      "department151\n",
      "department152\n",
      "department153\n",
      "department154\n",
      "department155\n",
      "department156\n",
      "department157\n",
      "department158\n",
      "department159\n",
      "department160\n",
      "department161\n",
      "department162\n",
      "department163\n",
      "department164\n",
      "department165\n",
      "department166\n",
      "department167\n",
      "department168\n",
      "department169\n",
      "department170\n",
      "department171\n",
      "department172\n",
      "department173\n",
      "department174\n",
      "department175\n",
      "department176\n",
      "department177\n",
      "department178\n",
      "department179\n",
      "casks white wine\n",
      "casks red wine\n",
      "750ml white nz\n",
      "750ml red nz\n",
      "750ml white imp\n",
      "750ml red imp\n",
      "sparkling nz\n",
      "sparkling imp\n",
      "brew kits/accesry\n",
      "department189\n",
      "port and sherry\n",
      "ctrled label wine\n",
      "department192\n",
      "department193\n",
      "department194\n",
      "department195\n",
      "department196\n",
      "department197\n",
      "department198\n",
      "department199\n",
      "non host support\n",
      "department201\n",
      "department202\n",
      "department203\n",
      "department204\n",
      "department205\n",
      "department206\n",
      "department207\n",
      "department208\n",
      "department209\n",
      "department210\n",
      "department211\n",
      "department212\n",
      "department213\n",
      "department214\n",
      "department215\n",
      "department216\n",
      "total\n"
     ]
    }
   ],
   "source": [
    "# pd.set_option('display.max_columns', None)\n",
    "\n",
    "columns = supermarket.columns.tolist()\n",
    "for column in columns:\n",
    "    print(column)"
   ]
  },
  {
   "cell_type": "markdown",
   "id": "7c0681a7",
   "metadata": {},
   "source": [
    "### Quels sont les types des attributs ? "
   ]
  },
  {
   "cell_type": "code",
   "execution_count": 12,
   "id": "8f3dc779",
   "metadata": {},
   "outputs": [
    {
     "name": "stdout",
     "output_type": "stream",
     "text": [
      "department1      object\n",
      "department2      object\n",
      "department3      object\n",
      "department4      object\n",
      "department5      object\n",
      "                  ...  \n",
      "department213    object\n",
      "department214    object\n",
      "department215    object\n",
      "department216    object\n",
      "total            object\n",
      "Length: 217, dtype: object\n"
     ]
    }
   ],
   "source": [
    "print(supermarket.dtypes)"
   ]
  },
  {
   "cell_type": "code",
   "execution_count": 13,
   "id": "477ed42a",
   "metadata": {},
   "outputs": [
    {
     "name": "stdout",
     "output_type": "stream",
     "text": [
      "[dtype('O')]\n"
     ]
    }
   ],
   "source": [
    "print(supermarket.dtypes.unique())"
   ]
  },
  {
   "cell_type": "markdown",
   "id": "09b32574",
   "metadata": {},
   "source": [
    "### Que représentent les valeurs associées aux ?"
   ]
  },
  {
   "cell_type": "markdown",
   "id": "59024e7e",
   "metadata": {},
   "source": [
    " ### Comment agit les commandes du fichier squelette, permettant la discrétisation ?"
   ]
  },
  {
   "cell_type": "code",
   "execution_count": 14,
   "id": "b17eb96c",
   "metadata": {},
   "outputs": [
    {
     "name": "stdout",
     "output_type": "stream",
     "text": [
      "high\n",
      "low\n"
     ]
    },
    {
     "data": {
      "text/html": [
       "<div>\n",
       "<style scoped>\n",
       "    .dataframe tbody tr th:only-of-type {\n",
       "        vertical-align: middle;\n",
       "    }\n",
       "\n",
       "    .dataframe tbody tr th {\n",
       "        vertical-align: top;\n",
       "    }\n",
       "\n",
       "    .dataframe thead th {\n",
       "        text-align: right;\n",
       "    }\n",
       "</style>\n",
       "<table border=\"1\" class=\"dataframe\">\n",
       "  <thead>\n",
       "    <tr style=\"text-align: right;\">\n",
       "      <th></th>\n",
       "      <th>department1</th>\n",
       "      <th>department2</th>\n",
       "      <th>department3</th>\n",
       "      <th>department4</th>\n",
       "      <th>department5</th>\n",
       "      <th>department6</th>\n",
       "      <th>department7</th>\n",
       "      <th>department8</th>\n",
       "      <th>department9</th>\n",
       "      <th>grocery misc</th>\n",
       "      <th>...</th>\n",
       "      <th>department209</th>\n",
       "      <th>department210</th>\n",
       "      <th>department211</th>\n",
       "      <th>department212</th>\n",
       "      <th>department213</th>\n",
       "      <th>department214</th>\n",
       "      <th>department215</th>\n",
       "      <th>department216</th>\n",
       "      <th>total_high</th>\n",
       "      <th>total_low</th>\n",
       "    </tr>\n",
       "  </thead>\n",
       "  <tbody>\n",
       "    <tr>\n",
       "      <th>0</th>\n",
       "      <td>False</td>\n",
       "      <td>False</td>\n",
       "      <td>False</td>\n",
       "      <td>False</td>\n",
       "      <td>False</td>\n",
       "      <td>False</td>\n",
       "      <td>False</td>\n",
       "      <td>False</td>\n",
       "      <td>False</td>\n",
       "      <td>False</td>\n",
       "      <td>...</td>\n",
       "      <td>False</td>\n",
       "      <td>False</td>\n",
       "      <td>False</td>\n",
       "      <td>False</td>\n",
       "      <td>False</td>\n",
       "      <td>False</td>\n",
       "      <td>False</td>\n",
       "      <td>False</td>\n",
       "      <td>True</td>\n",
       "      <td>False</td>\n",
       "    </tr>\n",
       "    <tr>\n",
       "      <th>1</th>\n",
       "      <td>True</td>\n",
       "      <td>False</td>\n",
       "      <td>False</td>\n",
       "      <td>False</td>\n",
       "      <td>False</td>\n",
       "      <td>False</td>\n",
       "      <td>False</td>\n",
       "      <td>False</td>\n",
       "      <td>False</td>\n",
       "      <td>False</td>\n",
       "      <td>...</td>\n",
       "      <td>False</td>\n",
       "      <td>False</td>\n",
       "      <td>False</td>\n",
       "      <td>False</td>\n",
       "      <td>False</td>\n",
       "      <td>False</td>\n",
       "      <td>False</td>\n",
       "      <td>False</td>\n",
       "      <td>False</td>\n",
       "      <td>True</td>\n",
       "    </tr>\n",
       "    <tr>\n",
       "      <th>2</th>\n",
       "      <td>False</td>\n",
       "      <td>False</td>\n",
       "      <td>False</td>\n",
       "      <td>False</td>\n",
       "      <td>False</td>\n",
       "      <td>False</td>\n",
       "      <td>False</td>\n",
       "      <td>False</td>\n",
       "      <td>False</td>\n",
       "      <td>False</td>\n",
       "      <td>...</td>\n",
       "      <td>False</td>\n",
       "      <td>False</td>\n",
       "      <td>False</td>\n",
       "      <td>False</td>\n",
       "      <td>False</td>\n",
       "      <td>False</td>\n",
       "      <td>False</td>\n",
       "      <td>False</td>\n",
       "      <td>False</td>\n",
       "      <td>True</td>\n",
       "    </tr>\n",
       "    <tr>\n",
       "      <th>3</th>\n",
       "      <td>True</td>\n",
       "      <td>False</td>\n",
       "      <td>False</td>\n",
       "      <td>False</td>\n",
       "      <td>False</td>\n",
       "      <td>False</td>\n",
       "      <td>False</td>\n",
       "      <td>False</td>\n",
       "      <td>False</td>\n",
       "      <td>False</td>\n",
       "      <td>...</td>\n",
       "      <td>False</td>\n",
       "      <td>False</td>\n",
       "      <td>False</td>\n",
       "      <td>False</td>\n",
       "      <td>False</td>\n",
       "      <td>False</td>\n",
       "      <td>False</td>\n",
       "      <td>False</td>\n",
       "      <td>False</td>\n",
       "      <td>True</td>\n",
       "    </tr>\n",
       "    <tr>\n",
       "      <th>4</th>\n",
       "      <td>False</td>\n",
       "      <td>False</td>\n",
       "      <td>False</td>\n",
       "      <td>False</td>\n",
       "      <td>False</td>\n",
       "      <td>False</td>\n",
       "      <td>False</td>\n",
       "      <td>False</td>\n",
       "      <td>False</td>\n",
       "      <td>False</td>\n",
       "      <td>...</td>\n",
       "      <td>False</td>\n",
       "      <td>False</td>\n",
       "      <td>False</td>\n",
       "      <td>False</td>\n",
       "      <td>False</td>\n",
       "      <td>False</td>\n",
       "      <td>False</td>\n",
       "      <td>False</td>\n",
       "      <td>False</td>\n",
       "      <td>True</td>\n",
       "    </tr>\n",
       "  </tbody>\n",
       "</table>\n",
       "<p>5 rows × 218 columns</p>\n",
       "</div>"
      ],
      "text/plain": [
       "   department1  department2  department3  department4  department5  \\\n",
       "0        False        False        False        False        False   \n",
       "1         True        False        False        False        False   \n",
       "2        False        False        False        False        False   \n",
       "3         True        False        False        False        False   \n",
       "4        False        False        False        False        False   \n",
       "\n",
       "   department6  department7  department8  department9  grocery misc  ...  \\\n",
       "0        False        False        False        False         False  ...   \n",
       "1        False        False        False        False         False  ...   \n",
       "2        False        False        False        False         False  ...   \n",
       "3        False        False        False        False         False  ...   \n",
       "4        False        False        False        False         False  ...   \n",
       "\n",
       "   department209  department210  department211  department212  department213  \\\n",
       "0          False          False          False          False          False   \n",
       "1          False          False          False          False          False   \n",
       "2          False          False          False          False          False   \n",
       "3          False          False          False          False          False   \n",
       "4          False          False          False          False          False   \n",
       "\n",
       "   department214  department215  department216  total_high  total_low  \n",
       "0          False          False          False        True      False  \n",
       "1          False          False          False       False       True  \n",
       "2          False          False          False       False       True  \n",
       "3          False          False          False       False       True  \n",
       "4          False          False          False       False       True  \n",
       "\n",
       "[5 rows x 218 columns]"
      ]
     },
     "execution_count": 14,
     "metadata": {},
     "output_type": "execute_result"
    }
   ],
   "source": [
    "# convert categorical values into one-hot vectors\n",
    "def one_hot_encode(x):\n",
    "    if x == '?':\n",
    "        return False\n",
    "    elif x == 't':\n",
    "        return True\n",
    "    else:\n",
    "        raise ValueError\n",
    "def one_hot_encode_total(x):\n",
    "    if x == 'high':\n",
    "        return False\n",
    "    elif x == 'low':\n",
    "        return True\n",
    "    else:\n",
    "        raise ValueError\n",
    "         \n",
    "        \n",
    "supermarket_one_hot = supermarket.drop(['total'], axis=1).applymap(one_hot_encode)\n",
    "\n",
    "for val in supermarket['total'].unique():\n",
    "    print(val)\n",
    "    supermarket_one_hot['total_'+str(val)] = supermarket['total'].apply(lambda x: x==val)\n",
    "    \n",
    "supermarket_one_hot.head()\n"
   ]
  },
  {
   "cell_type": "code",
   "execution_count": 26,
   "id": "e850c5af",
   "metadata": {},
   "outputs": [],
   "source": [
    "# one_hot_columns = supermarket_one_hot.columns.tolist()\n",
    "# for column in one_hot_columns:\n",
    "#     print(supermarket_one_hot[column].unique())"
   ]
  },
  {
   "cell_type": "markdown",
   "id": "40be7bbd",
   "metadata": {},
   "source": [
    "###  Établissez l'ensemble des itemsets fréquents à l'aide de la fonction apriori() de mlxtend en fixant un support minimal à 0,1.\n"
   ]
  },
  {
   "cell_type": "code",
   "execution_count": 21,
   "id": "9bb6a581",
   "metadata": {},
   "outputs": [],
   "source": [
    "# !pip install mlxtend"
   ]
  },
  {
   "cell_type": "code",
   "execution_count": 27,
   "id": "0f15e955",
   "metadata": {},
   "outputs": [
    {
     "name": "stdout",
     "output_type": "stream",
     "text": [
      "        support                                           itemsets\n",
      "0      0.226281                                      (department1)\n",
      "1      0.133780                                       (baby needs)\n",
      "2      0.719689                                   (bread and cake)\n",
      "3      0.604063                                     (baking needs)\n",
      "4      0.532310                                (juice-sat-cord-ms)\n",
      "...         ...                                                ...\n",
      "10277  0.101145  (total_high, fruit, frozen foods, vegetables, ...\n",
      "10278  0.100713  (fruit, party snack foods, frozen foods, veget...\n",
      "10279  0.103307  (total_high, fruit, party snack foods, frozen ...\n",
      "10280  0.102658  (total_high, tissues-paper prd, fruit, frozen ...\n",
      "10281  0.105036  (total_high, fruit, frozen foods, vegetables, ...\n",
      "\n",
      "[10282 rows x 2 columns]\n"
     ]
    }
   ],
   "source": [
    "from mlxtend.frequent_patterns import apriori\n",
    "\n",
    "# Exécutez Apriori pour trouver les itemsets fréquents avec un support minimal de 0,1\n",
    "frequent_itemsets = apriori(supermarket_one_hot, min_support=0.1, use_colnames=True)\n",
    "\n",
    "# Affichez les itemsets fréquents\n",
    "print(frequent_itemsets)\n"
   ]
  },
  {
   "cell_type": "markdown",
   "id": "c5abb0a8",
   "metadata": {},
   "source": [
    "###  Donnez leur fréquence en fonction du nombre d'items qu'ils contiennent."
   ]
  },
  {
   "cell_type": "code",
   "execution_count": 28,
   "id": "f5679105",
   "metadata": {},
   "outputs": [
    {
     "name": "stdout",
     "output_type": "stream",
     "text": [
      "   Taille de l'ensemble  Nombre d'itemsets fréquents\n",
      "5                     1                           52\n",
      "3                     2                          634\n",
      "1                     3                         2598\n",
      "0                     4                         3950\n",
      "2                     5                         2470\n",
      "4                     6                          558\n",
      "6                     7                           20\n"
     ]
    }
   ],
   "source": [
    "# Importez les bibliothèques nécessaires\n",
    "import pandas as pd\n",
    "\n",
    "# Regroupez les itemsets fréquents par la taille de l'ensemble\n",
    "itemsets_grouped = frequent_itemsets['itemsets'].apply(len).value_counts().reset_index()\n",
    "itemsets_grouped.columns = ['Taille de l\\'ensemble', 'Nombre d\\'itemsets fréquents']\n",
    "\n",
    "# Triez les résultats par taille d'ensemble\n",
    "itemsets_grouped = itemsets_grouped.sort_values(by='Taille de l\\'ensemble')\n",
    "\n",
    "# Affichez les résultats\n",
    "print(itemsets_grouped)"
   ]
  },
  {
   "cell_type": "markdown",
   "id": "f2aa8b06",
   "metadata": {},
   "source": [
    "###  Générez les règles à partir des itemsets fréquents avec une confiance minimale de 0,7\n"
   ]
  },
  {
   "cell_type": "code",
   "execution_count": 32,
   "id": "95e23c09",
   "metadata": {},
   "outputs": [],
   "source": [
    "from mlxtend.frequent_patterns import association_rules\n",
    "\n",
    "# Générez les règles à partir des itemsets fréquents avec une confiance minimale de 0,7\n",
    "rules = association_rules(frequent_itemsets, metric=\"confidence\", min_threshold=0.7)"
   ]
  },
  {
   "cell_type": "code",
   "execution_count": 105,
   "id": "70f61fb7",
   "metadata": {
    "scrolled": false
   },
   "outputs": [
    {
     "data": {
      "text/html": [
       "<div>\n",
       "<style scoped>\n",
       "    .dataframe tbody tr th:only-of-type {\n",
       "        vertical-align: middle;\n",
       "    }\n",
       "\n",
       "    .dataframe tbody tr th {\n",
       "        vertical-align: top;\n",
       "    }\n",
       "\n",
       "    .dataframe thead th {\n",
       "        text-align: right;\n",
       "    }\n",
       "</style>\n",
       "<table border=\"1\" class=\"dataframe\">\n",
       "  <thead>\n",
       "    <tr style=\"text-align: right;\">\n",
       "      <th></th>\n",
       "      <th>antecedents</th>\n",
       "      <th>consequents</th>\n",
       "      <th>antecedent support</th>\n",
       "      <th>consequent support</th>\n",
       "      <th>support</th>\n",
       "      <th>confidence</th>\n",
       "      <th>lift</th>\n",
       "      <th>leverage</th>\n",
       "      <th>conviction</th>\n",
       "      <th>zhangs_metric</th>\n",
       "    </tr>\n",
       "  </thead>\n",
       "  <tbody>\n",
       "    <tr>\n",
       "      <th>0</th>\n",
       "      <td>(bread and cake)</td>\n",
       "      <td>(baking needs)</td>\n",
       "      <td>0.719689</td>\n",
       "      <td>0.604063</td>\n",
       "      <td>0.473525</td>\n",
       "      <td>0.657958</td>\n",
       "      <td>1.089221</td>\n",
       "      <td>0.038788</td>\n",
       "      <td>1.157568</td>\n",
       "      <td>0.292219</td>\n",
       "    </tr>\n",
       "    <tr>\n",
       "      <th>1</th>\n",
       "      <td>(baking needs)</td>\n",
       "      <td>(bread and cake)</td>\n",
       "      <td>0.604063</td>\n",
       "      <td>0.719689</td>\n",
       "      <td>0.473525</td>\n",
       "      <td>0.783900</td>\n",
       "      <td>1.089221</td>\n",
       "      <td>0.038788</td>\n",
       "      <td>1.297136</td>\n",
       "      <td>0.206882</td>\n",
       "    </tr>\n",
       "    <tr>\n",
       "      <th>2</th>\n",
       "      <td>(bread and cake)</td>\n",
       "      <td>(juice-sat-cord-ms)</td>\n",
       "      <td>0.719689</td>\n",
       "      <td>0.532310</td>\n",
       "      <td>0.403933</td>\n",
       "      <td>0.561261</td>\n",
       "      <td>1.054387</td>\n",
       "      <td>0.020836</td>\n",
       "      <td>1.065987</td>\n",
       "      <td>0.184016</td>\n",
       "    </tr>\n",
       "    <tr>\n",
       "      <th>3</th>\n",
       "      <td>(juice-sat-cord-ms)</td>\n",
       "      <td>(bread and cake)</td>\n",
       "      <td>0.532310</td>\n",
       "      <td>0.719689</td>\n",
       "      <td>0.403933</td>\n",
       "      <td>0.758831</td>\n",
       "      <td>1.054387</td>\n",
       "      <td>0.020836</td>\n",
       "      <td>1.162301</td>\n",
       "      <td>0.110291</td>\n",
       "    </tr>\n",
       "    <tr>\n",
       "      <th>4</th>\n",
       "      <td>(biscuits)</td>\n",
       "      <td>(bread and cake)</td>\n",
       "      <td>0.563000</td>\n",
       "      <td>0.719689</td>\n",
       "      <td>0.450184</td>\n",
       "      <td>0.799616</td>\n",
       "      <td>1.111058</td>\n",
       "      <td>0.044999</td>\n",
       "      <td>1.398871</td>\n",
       "      <td>0.228735</td>\n",
       "    </tr>\n",
       "    <tr>\n",
       "      <th>...</th>\n",
       "      <td>...</td>\n",
       "      <td>...</td>\n",
       "      <td>...</td>\n",
       "      <td>...</td>\n",
       "      <td>...</td>\n",
       "      <td>...</td>\n",
       "      <td>...</td>\n",
       "      <td>...</td>\n",
       "      <td>...</td>\n",
       "      <td>...</td>\n",
       "    </tr>\n",
       "    <tr>\n",
       "      <th>3285</th>\n",
       "      <td>(fruit)</td>\n",
       "      <td>(vegetables, bread and cake, biscuits, frozen ...</td>\n",
       "      <td>0.640156</td>\n",
       "      <td>0.242057</td>\n",
       "      <td>0.200778</td>\n",
       "      <td>0.313639</td>\n",
       "      <td>1.295723</td>\n",
       "      <td>0.045824</td>\n",
       "      <td>1.104292</td>\n",
       "      <td>0.634247</td>\n",
       "    </tr>\n",
       "    <tr>\n",
       "      <th>3286</th>\n",
       "      <td>(frozen foods)</td>\n",
       "      <td>(vegetables, bread and cake, biscuits, fruit)</td>\n",
       "      <td>0.587206</td>\n",
       "      <td>0.262805</td>\n",
       "      <td>0.200778</td>\n",
       "      <td>0.341921</td>\n",
       "      <td>1.301044</td>\n",
       "      <td>0.046457</td>\n",
       "      <td>1.120223</td>\n",
       "      <td>0.560537</td>\n",
       "    </tr>\n",
       "    <tr>\n",
       "      <th>3287</th>\n",
       "      <td>(vegetables)</td>\n",
       "      <td>(biscuits, frozen foods, bread and cake, fruit)</td>\n",
       "      <td>0.639939</td>\n",
       "      <td>0.247028</td>\n",
       "      <td>0.200778</td>\n",
       "      <td>0.313745</td>\n",
       "      <td>1.270079</td>\n",
       "      <td>0.042695</td>\n",
       "      <td>1.097219</td>\n",
       "      <td>0.590587</td>\n",
       "    </tr>\n",
       "    <tr>\n",
       "      <th>3288</th>\n",
       "      <td>(biscuits)</td>\n",
       "      <td>(vegetables, frozen foods, bread and cake, fruit)</td>\n",
       "      <td>0.563000</td>\n",
       "      <td>0.268424</td>\n",
       "      <td>0.200778</td>\n",
       "      <td>0.356622</td>\n",
       "      <td>1.328574</td>\n",
       "      <td>0.049655</td>\n",
       "      <td>1.137085</td>\n",
       "      <td>0.565935</td>\n",
       "    </tr>\n",
       "    <tr>\n",
       "      <th>3289</th>\n",
       "      <td>(bread and cake)</td>\n",
       "      <td>(vegetables, frozen foods, biscuits, fruit)</td>\n",
       "      <td>0.719689</td>\n",
       "      <td>0.224552</td>\n",
       "      <td>0.200778</td>\n",
       "      <td>0.278979</td>\n",
       "      <td>1.242383</td>\n",
       "      <td>0.039171</td>\n",
       "      <td>1.075487</td>\n",
       "      <td>0.695995</td>\n",
       "    </tr>\n",
       "  </tbody>\n",
       "</table>\n",
       "<p>3290 rows × 10 columns</p>\n",
       "</div>"
      ],
      "text/plain": [
       "              antecedents                                        consequents  \\\n",
       "0        (bread and cake)                                     (baking needs)   \n",
       "1          (baking needs)                                   (bread and cake)   \n",
       "2        (bread and cake)                                (juice-sat-cord-ms)   \n",
       "3     (juice-sat-cord-ms)                                   (bread and cake)   \n",
       "4              (biscuits)                                   (bread and cake)   \n",
       "...                   ...                                                ...   \n",
       "3285              (fruit)  (vegetables, bread and cake, biscuits, frozen ...   \n",
       "3286       (frozen foods)      (vegetables, bread and cake, biscuits, fruit)   \n",
       "3287         (vegetables)    (biscuits, frozen foods, bread and cake, fruit)   \n",
       "3288           (biscuits)  (vegetables, frozen foods, bread and cake, fruit)   \n",
       "3289     (bread and cake)        (vegetables, frozen foods, biscuits, fruit)   \n",
       "\n",
       "      antecedent support  consequent support   support  confidence      lift  \\\n",
       "0               0.719689            0.604063  0.473525    0.657958  1.089221   \n",
       "1               0.604063            0.719689  0.473525    0.783900  1.089221   \n",
       "2               0.719689            0.532310  0.403933    0.561261  1.054387   \n",
       "3               0.532310            0.719689  0.403933    0.758831  1.054387   \n",
       "4               0.563000            0.719689  0.450184    0.799616  1.111058   \n",
       "...                  ...                 ...       ...         ...       ...   \n",
       "3285            0.640156            0.242057  0.200778    0.313639  1.295723   \n",
       "3286            0.587206            0.262805  0.200778    0.341921  1.301044   \n",
       "3287            0.639939            0.247028  0.200778    0.313745  1.270079   \n",
       "3288            0.563000            0.268424  0.200778    0.356622  1.328574   \n",
       "3289            0.719689            0.224552  0.200778    0.278979  1.242383   \n",
       "\n",
       "      leverage  conviction  zhangs_metric  \n",
       "0     0.038788    1.157568       0.292219  \n",
       "1     0.038788    1.297136       0.206882  \n",
       "2     0.020836    1.065987       0.184016  \n",
       "3     0.020836    1.162301       0.110291  \n",
       "4     0.044999    1.398871       0.228735  \n",
       "...        ...         ...            ...  \n",
       "3285  0.045824    1.104292       0.634247  \n",
       "3286  0.046457    1.120223       0.560537  \n",
       "3287  0.042695    1.097219       0.590587  \n",
       "3288  0.049655    1.137085       0.565935  \n",
       "3289  0.039171    1.075487       0.695995  \n",
       "\n",
       "[3290 rows x 10 columns]"
      ]
     },
     "execution_count": 105,
     "metadata": {},
     "output_type": "execute_result"
    }
   ],
   "source": [
    "# Affichez les règles\n",
    "rules\n"
   ]
  },
  {
   "cell_type": "markdown",
   "id": "c1843e0f",
   "metadata": {},
   "source": [
    "###  la meilleure règle pour l'ensemble ' supermarket ' pour chacune des métriques confidence et lift ?"
   ]
  },
  {
   "cell_type": "markdown",
   "id": "66bf3cca",
   "metadata": {},
   "source": [
    "#### la meilleure règle pour l'ensemble ' supermarket ' pour  la confidence:"
   ]
  },
  {
   "cell_type": "code",
   "execution_count": 62,
   "id": "922b8cf8",
   "metadata": {},
   "outputs": [
    {
     "name": "stdout",
     "output_type": "stream",
     "text": [
      "\n",
      "Meilleure règle en termes de confiance :\n",
      "\n"
     ]
    },
    {
     "data": {
      "text/plain": [
       "frozenset({'biscuits',\n",
       "           'frozen foods',\n",
       "           'fruit',\n",
       "           'party snack foods',\n",
       "           'total_high',\n",
       "           'vegetables'})"
      ]
     },
     "execution_count": 62,
     "metadata": {},
     "output_type": "execute_result"
    }
   ],
   "source": [
    "best_rule_by_confidence = rules.sort_values(by='confidence', ascending=False).iloc[0]\n",
    "print(\"\\nMeilleure règle en termes de confiance :\\n\")\n",
    "best_rule_by_confidence.antecedents"
   ]
  },
  {
   "cell_type": "code",
   "execution_count": 63,
   "id": "0a41235e",
   "metadata": {},
   "outputs": [
    {
     "data": {
      "text/plain": [
       "antecedents           (fruit, party snack foods, frozen foods, veget...\n",
       "consequents                                            (bread and cake)\n",
       "antecedent support                                             0.110223\n",
       "consequent support                                             0.719689\n",
       "support                                                        0.103307\n",
       "confidence                                                     0.937255\n",
       "lift                                                           1.302306\n",
       "leverage                                                       0.023981\n",
       "conviction                                                      4.46746\n",
       "zhangs_metric                                                  0.260887\n",
       "Name: 24519, dtype: object"
      ]
     },
     "execution_count": 63,
     "metadata": {},
     "output_type": "execute_result"
    }
   ],
   "source": [
    "best_rule_by_confidence"
   ]
  },
  {
   "cell_type": "markdown",
   "id": "8aa7fbbc",
   "metadata": {},
   "source": [
    "#### la meilleure règle pour l'ensemble ' supermarket ' pour le lift :"
   ]
  },
  {
   "cell_type": "code",
   "execution_count": 74,
   "id": "061d9e96",
   "metadata": {},
   "outputs": [
    {
     "name": "stdout",
     "output_type": "stream",
     "text": [
      "\n",
      "Meilleure règle en termes de lift :\n"
     ]
    },
    {
     "data": {
      "text/plain": [
       "frozenset({'biscuits',\n",
       "           'frozen foods',\n",
       "           'fruit',\n",
       "           'tissues-paper prd',\n",
       "           'vegetables'})"
      ]
     },
     "execution_count": 74,
     "metadata": {},
     "output_type": "execute_result"
    }
   ],
   "source": [
    "# Pour trouver la meilleure règle en termes de lift\n",
    "best_rule_by_lift = rules.sort_values(by='lift', ascending=False).iloc[0]\n",
    "print(\"\\nMeilleure règle en termes de lift :\")\n",
    "best_rule_by_lift.antecedents"
   ]
  },
  {
   "cell_type": "code",
   "execution_count": 75,
   "id": "20d0d02b",
   "metadata": {},
   "outputs": [
    {
     "data": {
      "text/plain": [
       "antecedents           (tissues-paper prd, fruit, frozen foods, veget...\n",
       "consequents                                (total_high, bread and cake)\n",
       "antecedent support                                             0.143289\n",
       "consequent support                                             0.305381\n",
       "support                                                        0.102658\n",
       "confidence                                                      0.71644\n",
       "lift                                                           2.346051\n",
       "leverage                                                         0.0589\n",
       "conviction                                                     2.449639\n",
       "zhangs_metric                                                  0.669715\n",
       "Name: 24552, dtype: object"
      ]
     },
     "execution_count": 75,
     "metadata": {},
     "output_type": "execute_result"
    }
   ],
   "source": [
    "best_rule_by_lift"
   ]
  },
  {
   "cell_type": "markdown",
   "id": "0baf084a",
   "metadata": {},
   "source": [
    "#### la meilleure règle pour l'ensemble ' supermarket ' pour les 2 métriques confidence et lift :"
   ]
  },
  {
   "cell_type": "code",
   "execution_count": 79,
   "id": "6d504bc6",
   "metadata": {},
   "outputs": [
    {
     "name": "stdout",
     "output_type": "stream",
     "text": [
      "\n",
      "Meilleure règle en termes de confiance et lift :\n",
      "\n"
     ]
    },
    {
     "data": {
      "text/plain": [
       "antecedents           (fruit, party snack foods, frozen foods, veget...\n",
       "consequents                                            (bread and cake)\n",
       "antecedent support                                             0.110223\n",
       "consequent support                                             0.719689\n",
       "support                                                        0.103307\n",
       "confidence                                                     0.937255\n",
       "lift                                                           1.302306\n",
       "leverage                                                       0.023981\n",
       "conviction                                                      4.46746\n",
       "zhangs_metric                                                  0.260887\n",
       "Name: 24519, dtype: object"
      ]
     },
     "execution_count": 79,
     "metadata": {},
     "output_type": "execute_result"
    }
   ],
   "source": [
    "best_rule_by_confidence_and_lift = rules.sort_values(by=['confidence','lift'], ascending=False).iloc[0]\n",
    "print(\"\\nMeilleure règle en termes de confiance et lift :\\n\")\n",
    "best_rule_by_confidence_and_lift"
   ]
  },
  {
   "cell_type": "markdown",
   "id": "056f900a",
   "metadata": {},
   "source": [
    "### Un dirigeant du supermarché souhaite améliorer ses ventes en réorganisant le positionnement des produits dans ses rayons. D'après votre analyse du panier de consommation fourni, quels produits sont souvent achetés conjointement avec des biscuits et des aliments pour animaux domestiques ?"
   ]
  },
  {
   "cell_type": "markdown",
   "id": "89fab5ff",
   "metadata": {},
   "source": [
    "Pour identifier quels produits sont souvent achetés conjointement avec des biscuits et des aliments pour animaux domestiques, nous devons revoir la règle d'association en ajustant le seuil de support minimal. Augmenter le seuil de support minimal signifie que nous ne tiendrons compte que des règles avec un support plus élevé, ce qui rendra les associations plus fortes et plus significatives. Le seuil précédemment fixé à 0,1 était assez bas, donc nous ré exécuterons l'analyse d'Apriori avec un seuil de support minimal plus élevé (0,2) pour identifier des règles plus spécifiques et significatives."
   ]
  },
  {
   "cell_type": "code",
   "execution_count": 115,
   "id": "de7a9d1b",
   "metadata": {},
   "outputs": [],
   "source": [
    "# columns = supermarket.columns.tolist()\n",
    "# for column in columns:\n",
    "#     print(column)"
   ]
  },
  {
   "cell_type": "code",
   "execution_count": 116,
   "id": "1346b36f",
   "metadata": {},
   "outputs": [],
   "source": [
    "# Exécutez Apriori avec un seuil de support minimal plus élevé\n",
    "frequent_itemsets_2 = apriori(supermarket_one_hot, min_support=0.2, use_colnames=True)\n",
    "\n",
    "#obtenir les règles d'association avec ce nouveau seuil de support\n",
    "rules = association_rules(frequent_itemsets_2, metric=\"lift\", min_threshold=1)\n",
    "\n",
    "#Rechercher les règles qui contiennent \"biscuits\" et \"aliments pour animaux domestiques (pet food)\" dans les antécédents\n",
    "biscuits_pet_food_rules = rules[rules['antecedents'].apply(lambda x: 'biscuits' in x and 'pet foods' in x)]\n",
    "\n"
   ]
  },
  {
   "cell_type": "code",
   "execution_count": 117,
   "id": "c4309d85",
   "metadata": {},
   "outputs": [
    {
     "data": {
      "text/html": [
       "<div>\n",
       "<style scoped>\n",
       "    .dataframe tbody tr th:only-of-type {\n",
       "        vertical-align: middle;\n",
       "    }\n",
       "\n",
       "    .dataframe tbody tr th {\n",
       "        vertical-align: top;\n",
       "    }\n",
       "\n",
       "    .dataframe thead th {\n",
       "        text-align: right;\n",
       "    }\n",
       "</style>\n",
       "<table border=\"1\" class=\"dataframe\">\n",
       "  <thead>\n",
       "    <tr style=\"text-align: right;\">\n",
       "      <th></th>\n",
       "      <th>antecedents</th>\n",
       "      <th>consequents</th>\n",
       "      <th>antecedent support</th>\n",
       "      <th>consequent support</th>\n",
       "      <th>support</th>\n",
       "      <th>confidence</th>\n",
       "      <th>lift</th>\n",
       "      <th>leverage</th>\n",
       "      <th>conviction</th>\n",
       "      <th>zhangs_metric</th>\n",
       "    </tr>\n",
       "  </thead>\n",
       "  <tbody>\n",
       "    <tr>\n",
       "      <th>611</th>\n",
       "      <td>(biscuits, pet foods)</td>\n",
       "      <td>(bread and cake)</td>\n",
       "      <td>0.256105</td>\n",
       "      <td>0.719689</td>\n",
       "      <td>0.215907</td>\n",
       "      <td>0.843038</td>\n",
       "      <td>1.171392</td>\n",
       "      <td>0.03159</td>\n",
       "      <td>1.785854</td>\n",
       "      <td>0.196688</td>\n",
       "    </tr>\n",
       "  </tbody>\n",
       "</table>\n",
       "</div>"
      ],
      "text/plain": [
       "               antecedents       consequents  antecedent support  \\\n",
       "611  (biscuits, pet foods)  (bread and cake)            0.256105   \n",
       "\n",
       "     consequent support   support  confidence      lift  leverage  conviction  \\\n",
       "611            0.719689  0.215907    0.843038  1.171392   0.03159    1.785854   \n",
       "\n",
       "     zhangs_metric  \n",
       "611       0.196688  "
      ]
     },
     "execution_count": 117,
     "metadata": {},
     "output_type": "execute_result"
    }
   ],
   "source": [
    "biscuits_pet_food_rules"
   ]
  },
  {
   "cell_type": "code",
   "execution_count": null,
   "id": "3fb2a917",
   "metadata": {},
   "outputs": [],
   "source": []
  },
  {
   "cell_type": "markdown",
   "id": "06df129f",
   "metadata": {},
   "source": [
    "# 2 Analyse prédictive\n"
   ]
  },
  {
   "cell_type": "markdown",
   "id": "9e65628d",
   "metadata": {},
   "source": [
    "## 2.1 Classement\n"
   ]
  },
  {
   "cell_type": "markdown",
   "id": "2c62d0f2",
   "metadata": {},
   "source": [
    "### Ouvrez les données d'apprentissage et de test à l'aide de la bibliothèque pandas"
   ]
  },
  {
   "cell_type": "code",
   "execution_count": 119,
   "id": "75da6229",
   "metadata": {},
   "outputs": [],
   "source": [
    "import pandas as pd\n",
    "\n",
    "# Charger les données d'apprentissage\n",
    "train_data = pd.read_csv(\"data/adult_earnings/adult.train.csv\")\n",
    "\n",
    "# Charger les données de test\n",
    "test_data = pd.read_csv(\"data/adult_earnings/adult.test.csv\")\n"
   ]
  },
  {
   "cell_type": "code",
   "execution_count": 127,
   "id": "31a59c86",
   "metadata": {},
   "outputs": [
    {
     "data": {
      "text/html": [
       "<div>\n",
       "<style scoped>\n",
       "    .dataframe tbody tr th:only-of-type {\n",
       "        vertical-align: middle;\n",
       "    }\n",
       "\n",
       "    .dataframe tbody tr th {\n",
       "        vertical-align: top;\n",
       "    }\n",
       "\n",
       "    .dataframe thead th {\n",
       "        text-align: right;\n",
       "    }\n",
       "</style>\n",
       "<table border=\"1\" class=\"dataframe\">\n",
       "  <thead>\n",
       "    <tr style=\"text-align: right;\">\n",
       "      <th></th>\n",
       "      <th>age</th>\n",
       "      <th>workclass</th>\n",
       "      <th>fnlwgt</th>\n",
       "      <th>education</th>\n",
       "      <th>education-num</th>\n",
       "      <th>marital-status</th>\n",
       "      <th>occupation</th>\n",
       "      <th>relationship</th>\n",
       "      <th>race</th>\n",
       "      <th>sex</th>\n",
       "      <th>capital-gain</th>\n",
       "      <th>capital-loss</th>\n",
       "      <th>hours-per-week</th>\n",
       "      <th>native-country</th>\n",
       "      <th>class</th>\n",
       "    </tr>\n",
       "  </thead>\n",
       "  <tbody>\n",
       "    <tr>\n",
       "      <th>0</th>\n",
       "      <td>39</td>\n",
       "      <td>State-gov</td>\n",
       "      <td>77516</td>\n",
       "      <td>Bachelors</td>\n",
       "      <td>13</td>\n",
       "      <td>Never-married</td>\n",
       "      <td>Adm-clerical</td>\n",
       "      <td>Not-in-family</td>\n",
       "      <td>White</td>\n",
       "      <td>Male</td>\n",
       "      <td>2174</td>\n",
       "      <td>0</td>\n",
       "      <td>40</td>\n",
       "      <td>United-States</td>\n",
       "      <td>&lt;=50K</td>\n",
       "    </tr>\n",
       "    <tr>\n",
       "      <th>1</th>\n",
       "      <td>50</td>\n",
       "      <td>Self-emp-not-inc</td>\n",
       "      <td>83311</td>\n",
       "      <td>Bachelors</td>\n",
       "      <td>13</td>\n",
       "      <td>Married-civ-spouse</td>\n",
       "      <td>Exec-managerial</td>\n",
       "      <td>Husband</td>\n",
       "      <td>White</td>\n",
       "      <td>Male</td>\n",
       "      <td>0</td>\n",
       "      <td>0</td>\n",
       "      <td>13</td>\n",
       "      <td>United-States</td>\n",
       "      <td>&lt;=50K</td>\n",
       "    </tr>\n",
       "    <tr>\n",
       "      <th>2</th>\n",
       "      <td>38</td>\n",
       "      <td>Private</td>\n",
       "      <td>215646</td>\n",
       "      <td>HS-grad</td>\n",
       "      <td>9</td>\n",
       "      <td>Divorced</td>\n",
       "      <td>Handlers-cleaners</td>\n",
       "      <td>Not-in-family</td>\n",
       "      <td>White</td>\n",
       "      <td>Male</td>\n",
       "      <td>0</td>\n",
       "      <td>0</td>\n",
       "      <td>40</td>\n",
       "      <td>United-States</td>\n",
       "      <td>&lt;=50K</td>\n",
       "    </tr>\n",
       "    <tr>\n",
       "      <th>3</th>\n",
       "      <td>53</td>\n",
       "      <td>Private</td>\n",
       "      <td>234721</td>\n",
       "      <td>11th</td>\n",
       "      <td>7</td>\n",
       "      <td>Married-civ-spouse</td>\n",
       "      <td>Handlers-cleaners</td>\n",
       "      <td>Husband</td>\n",
       "      <td>Black</td>\n",
       "      <td>Male</td>\n",
       "      <td>0</td>\n",
       "      <td>0</td>\n",
       "      <td>40</td>\n",
       "      <td>United-States</td>\n",
       "      <td>&lt;=50K</td>\n",
       "    </tr>\n",
       "    <tr>\n",
       "      <th>4</th>\n",
       "      <td>28</td>\n",
       "      <td>Private</td>\n",
       "      <td>338409</td>\n",
       "      <td>Bachelors</td>\n",
       "      <td>13</td>\n",
       "      <td>Married-civ-spouse</td>\n",
       "      <td>Prof-specialty</td>\n",
       "      <td>Wife</td>\n",
       "      <td>Black</td>\n",
       "      <td>Female</td>\n",
       "      <td>0</td>\n",
       "      <td>0</td>\n",
       "      <td>40</td>\n",
       "      <td>Cuba</td>\n",
       "      <td>&lt;=50K</td>\n",
       "    </tr>\n",
       "  </tbody>\n",
       "</table>\n",
       "</div>"
      ],
      "text/plain": [
       "   age         workclass  fnlwgt  education  education-num  \\\n",
       "0   39         State-gov   77516  Bachelors             13   \n",
       "1   50  Self-emp-not-inc   83311  Bachelors             13   \n",
       "2   38           Private  215646    HS-grad              9   \n",
       "3   53           Private  234721       11th              7   \n",
       "4   28           Private  338409  Bachelors             13   \n",
       "\n",
       "       marital-status         occupation   relationship   race     sex  \\\n",
       "0       Never-married       Adm-clerical  Not-in-family  White    Male   \n",
       "1  Married-civ-spouse    Exec-managerial        Husband  White    Male   \n",
       "2            Divorced  Handlers-cleaners  Not-in-family  White    Male   \n",
       "3  Married-civ-spouse  Handlers-cleaners        Husband  Black    Male   \n",
       "4  Married-civ-spouse     Prof-specialty           Wife  Black  Female   \n",
       "\n",
       "   capital-gain  capital-loss  hours-per-week native-country  class  \n",
       "0          2174             0              40  United-States  <=50K  \n",
       "1             0             0              13  United-States  <=50K  \n",
       "2             0             0              40  United-States  <=50K  \n",
       "3             0             0              40  United-States  <=50K  \n",
       "4             0             0              40           Cuba  <=50K  "
      ]
     },
     "execution_count": 127,
     "metadata": {},
     "output_type": "execute_result"
    }
   ],
   "source": [
    "train_data.head()"
   ]
  },
  {
   "cell_type": "markdown",
   "id": "96f3ea8f",
   "metadata": {},
   "source": [
    "### Combien y a-t-il d'attributs dans ces fichiers ? "
   ]
  },
  {
   "cell_type": "code",
   "execution_count": 121,
   "id": "81dd32d6",
   "metadata": {},
   "outputs": [
    {
     "data": {
      "text/plain": [
       "Index(['age', 'workclass', 'fnlwgt', 'education', 'education-num',\n",
       "       'marital-status', 'occupation', 'relationship', 'race', 'sex',\n",
       "       'capital-gain', 'capital-loss', 'hours-per-week', 'native-country',\n",
       "       'class'],\n",
       "      dtype='object')"
      ]
     },
     "execution_count": 121,
     "metadata": {},
     "output_type": "execute_result"
    }
   ],
   "source": [
    "columns = train_data.columns\n",
    "columns"
   ]
  },
  {
   "cell_type": "code",
   "execution_count": 123,
   "id": "2fc8d1cf",
   "metadata": {},
   "outputs": [
    {
     "data": {
      "text/plain": [
       "15"
      ]
     },
     "execution_count": 123,
     "metadata": {},
     "output_type": "execute_result"
    }
   ],
   "source": [
    "len(columns)"
   ]
  },
  {
   "cell_type": "markdown",
   "id": "e2884bf2",
   "metadata": {},
   "source": [
    " ### Quels sont leurs types ?"
   ]
  },
  {
   "cell_type": "code",
   "execution_count": 129,
   "id": "7f326232",
   "metadata": {},
   "outputs": [
    {
     "data": {
      "text/plain": [
       "age                int64\n",
       "workclass         object\n",
       "fnlwgt             int64\n",
       "education         object\n",
       "education-num      int64\n",
       "marital-status    object\n",
       "occupation        object\n",
       "relationship      object\n",
       "race              object\n",
       "sex               object\n",
       "capital-gain       int64\n",
       "capital-loss       int64\n",
       "hours-per-week     int64\n",
       "native-country    object\n",
       "class             object\n",
       "dtype: object"
      ]
     },
     "execution_count": 129,
     "metadata": {},
     "output_type": "execute_result"
    }
   ],
   "source": [
    "train_data.dtypes"
   ]
  },
  {
   "cell_type": "markdown",
   "id": "a9a8a478",
   "metadata": {},
   "source": [
    "### Quelle est la variable à prédire ?"
   ]
  },
  {
   "cell_type": "code",
   "execution_count": 180,
   "id": "3a4a2b96",
   "metadata": {},
   "outputs": [
    {
     "data": {
      "text/plain": [
       "32556    <=50K\n",
       "32557     >50K\n",
       "32558    <=50K\n",
       "32559    <=50K\n",
       "32560     >50K\n",
       "Name: class, dtype: object"
      ]
     },
     "execution_count": 180,
     "metadata": {},
     "output_type": "execute_result"
    }
   ],
   "source": [
    "train_data[\"class\"].tail()"
   ]
  },
  {
   "cell_type": "code",
   "execution_count": 176,
   "id": "8e03b624",
   "metadata": {},
   "outputs": [
    {
     "data": {
      "text/plain": [
       "array([0, 0, 0, ..., 0, 0, 1])"
      ]
     },
     "execution_count": 176,
     "metadata": {},
     "output_type": "execute_result"
    }
   ],
   "source": [
    "from sklearn.preprocessing import LabelEncoder\n",
    "\n",
    "label_encoder = LabelEncoder()\n",
    "y_train = label_encoder.fit_transform(train_data[\"class\"])\n",
    "y_train"
   ]
  },
  {
   "cell_type": "code",
   "execution_count": 178,
   "id": "dfee0db9",
   "metadata": {},
   "outputs": [
    {
     "data": {
      "text/plain": [
       "array([0, 0, 1, ..., 0, 0, 1])"
      ]
     },
     "execution_count": 178,
     "metadata": {},
     "output_type": "execute_result"
    }
   ],
   "source": [
    "# Utilisez le même encodeur que celui utilisé pour les données d'apprentissage\n",
    "y_test = label_encoder.transform(test_data[\"class\"])\n",
    "y_test"
   ]
  },
  {
   "cell_type": "markdown",
   "id": "345727ee",
   "metadata": {},
   "source": [
    "### Les classes sont-elles équilibrées dans les fichiers ?\n",
    "\n"
   ]
  },
  {
   "cell_type": "code",
   "execution_count": 139,
   "id": "ebaacba9",
   "metadata": {},
   "outputs": [
    {
     "name": "stdout",
     "output_type": "stream",
     "text": [
      "<=50K    24720\n",
      ">50K      7841\n",
      "Name: class, dtype: int64\n"
     ]
    }
   ],
   "source": [
    "# Comptez les occurrences de chaque classe\n",
    "class_counts = train_data['class'].value_counts()\n",
    "\n",
    "# Affichez le nombre d'occurrences de chaque classe\n",
    "print(class_counts)"
   ]
  },
  {
   "cell_type": "markdown",
   "id": "409c416e",
   "metadata": {},
   "source": [
    "### Y a-t-il beaucoup de valeurs manquantes dans les données ?"
   ]
  },
  {
   "cell_type": "code",
   "execution_count": 140,
   "id": "0655a58c",
   "metadata": {},
   "outputs": [
    {
     "data": {
      "text/plain": [
       "age               0\n",
       "workclass         0\n",
       "fnlwgt            0\n",
       "education         0\n",
       "education-num     0\n",
       "marital-status    0\n",
       "occupation        0\n",
       "relationship      0\n",
       "race              0\n",
       "sex               0\n",
       "capital-gain      0\n",
       "capital-loss      0\n",
       "hours-per-week    0\n",
       "native-country    0\n",
       "class             0\n",
       "dtype: int64"
      ]
     },
     "execution_count": 140,
     "metadata": {},
     "output_type": "execute_result"
    }
   ],
   "source": [
    "train_data.isnull().sum()"
   ]
  },
  {
   "cell_type": "code",
   "execution_count": 144,
   "id": "98e020e9",
   "metadata": {},
   "outputs": [
    {
     "name": "stdout",
     "output_type": "stream",
     "text": [
      "Nombre de valeurs manquantes dans train datset :\n",
      "age                  0\n",
      "workclass         1836\n",
      "fnlwgt               0\n",
      "education            0\n",
      "education-num        0\n",
      "marital-status       0\n",
      "occupation        1843\n",
      "relationship         0\n",
      "race                 0\n",
      "sex                  0\n",
      "capital-gain         0\n",
      "capital-loss         0\n",
      "hours-per-week       0\n",
      "native-country     583\n",
      "class                0\n",
      "dtype: int64\n"
     ]
    }
   ],
   "source": [
    "# Compter les valeurs manquantes (représentées par '?') par colonne\n",
    "missing_counts_by_column = train_data.applymap(lambda x: x == '?').sum()\n",
    "\n",
    "print(\"Nombre de valeurs manquantes dans train datset :\")\n",
    "print(missing_counts_by_column)\n"
   ]
  },
  {
   "cell_type": "code",
   "execution_count": 145,
   "id": "b3fc0f98",
   "metadata": {},
   "outputs": [
    {
     "name": "stdout",
     "output_type": "stream",
     "text": [
      "Nombre de valeurs manquantes dans test dataset :\n",
      "age                 0\n",
      "workclass         963\n",
      "fnlwgt              0\n",
      "education           0\n",
      "education-num       0\n",
      "marital-status      0\n",
      "occupation        966\n",
      "relationship        0\n",
      "race                0\n",
      "sex                 0\n",
      "capital-gain        0\n",
      "capital-loss        0\n",
      "hours-per-week      0\n",
      "native-country    274\n",
      "class               0\n",
      "dtype: int64\n"
     ]
    }
   ],
   "source": [
    "# Compter les valeurs manquantes (représentées par '?') par colonne\n",
    "missing_counts_by_column = test_data.applymap(lambda x: x == '?').sum()\n",
    "\n",
    "print(\"Nombre de valeurs manquantes dans test dataset :\")\n",
    "print(missing_counts_by_column)\n"
   ]
  },
  {
   "cell_type": "markdown",
   "id": "387c2e29",
   "metadata": {},
   "source": [
    "### Dans un premier temps, seules les données numériques sont considérées pour prédire la classe. Remplacez chaque valeur manquante par la moyenne obtenue par chaque attribut en utilisant  SimpleImputer. Normalisez ensuite les valeurs numériques à l'aide de StandardScaler"
   ]
  },
  {
   "cell_type": "code",
   "execution_count": 166,
   "id": "8451b8db",
   "metadata": {},
   "outputs": [],
   "source": [
    "#Remplacez les caractères '?' par NaN dans votre ensemble de données en utilisant la méthode replace de pandas.\n",
    "import numpy as np\n",
    "train_data = train_data.replace('?', np.nan)"
   ]
  },
  {
   "cell_type": "code",
   "execution_count": 167,
   "id": "4da8bd10",
   "metadata": {},
   "outputs": [
    {
     "data": {
      "text/html": [
       "<div>\n",
       "<style scoped>\n",
       "    .dataframe tbody tr th:only-of-type {\n",
       "        vertical-align: middle;\n",
       "    }\n",
       "\n",
       "    .dataframe tbody tr th {\n",
       "        vertical-align: top;\n",
       "    }\n",
       "\n",
       "    .dataframe thead th {\n",
       "        text-align: right;\n",
       "    }\n",
       "</style>\n",
       "<table border=\"1\" class=\"dataframe\">\n",
       "  <thead>\n",
       "    <tr style=\"text-align: right;\">\n",
       "      <th></th>\n",
       "      <th>age</th>\n",
       "      <th>fnlwgt</th>\n",
       "      <th>education-num</th>\n",
       "      <th>capital-gain</th>\n",
       "      <th>capital-loss</th>\n",
       "      <th>hours-per-week</th>\n",
       "    </tr>\n",
       "  </thead>\n",
       "  <tbody>\n",
       "    <tr>\n",
       "      <th>0</th>\n",
       "      <td>39</td>\n",
       "      <td>77516</td>\n",
       "      <td>13</td>\n",
       "      <td>2174</td>\n",
       "      <td>0</td>\n",
       "      <td>40</td>\n",
       "    </tr>\n",
       "    <tr>\n",
       "      <th>1</th>\n",
       "      <td>50</td>\n",
       "      <td>83311</td>\n",
       "      <td>13</td>\n",
       "      <td>0</td>\n",
       "      <td>0</td>\n",
       "      <td>13</td>\n",
       "    </tr>\n",
       "    <tr>\n",
       "      <th>2</th>\n",
       "      <td>38</td>\n",
       "      <td>215646</td>\n",
       "      <td>9</td>\n",
       "      <td>0</td>\n",
       "      <td>0</td>\n",
       "      <td>40</td>\n",
       "    </tr>\n",
       "    <tr>\n",
       "      <th>3</th>\n",
       "      <td>53</td>\n",
       "      <td>234721</td>\n",
       "      <td>7</td>\n",
       "      <td>0</td>\n",
       "      <td>0</td>\n",
       "      <td>40</td>\n",
       "    </tr>\n",
       "    <tr>\n",
       "      <th>4</th>\n",
       "      <td>28</td>\n",
       "      <td>338409</td>\n",
       "      <td>13</td>\n",
       "      <td>0</td>\n",
       "      <td>0</td>\n",
       "      <td>40</td>\n",
       "    </tr>\n",
       "  </tbody>\n",
       "</table>\n",
       "</div>"
      ],
      "text/plain": [
       "   age  fnlwgt  education-num  capital-gain  capital-loss  hours-per-week\n",
       "0   39   77516             13          2174             0              40\n",
       "1   50   83311             13             0             0              13\n",
       "2   38  215646              9             0             0              40\n",
       "3   53  234721              7             0             0              40\n",
       "4   28  338409             13             0             0              40"
      ]
     },
     "execution_count": 167,
     "metadata": {},
     "output_type": "execute_result"
    }
   ],
   "source": [
    "#Importez les bibliothèques nécessaires :\n",
    "from sklearn.impute import SimpleImputer\n",
    "from sklearn.preprocessing import StandardScaler\n",
    "\n",
    "#Filtré uniquement les colonnes numériques:\n",
    "train_numeric_data = train_data.select_dtypes(include=['number'])\n",
    "train_numeric_data.head()\n"
   ]
  },
  {
   "cell_type": "code",
   "execution_count": 168,
   "id": "66ce0079",
   "metadata": {},
   "outputs": [
    {
     "data": {
      "text/plain": [
       "age               0\n",
       "fnlwgt            0\n",
       "education-num     0\n",
       "capital-gain      0\n",
       "capital-loss      0\n",
       "hours-per-week    0\n",
       "dtype: int64"
      ]
     },
     "execution_count": 168,
     "metadata": {},
     "output_type": "execute_result"
    }
   ],
   "source": [
    "train_numeric_data.isnull().sum()\n"
   ]
  },
  {
   "cell_type": "code",
   "execution_count": 171,
   "id": "7ec1bbce",
   "metadata": {},
   "outputs": [],
   "source": [
    "#Créez l'instance de SimpleImputer :\n",
    "imputer = SimpleImputer(strategy='mean')\n",
    "imputer.fit(train_numeric_data)\n",
    "\n",
    "#Remplacez les valeurs manquantes par la moyenne dans votre ensemble de données :\n",
    "train_numeric_data_imputed = imputer.transform(train_numeric_data)\n"
   ]
  },
  {
   "cell_type": "code",
   "execution_count": 163,
   "id": "70783e6c",
   "metadata": {},
   "outputs": [],
   "source": [
    "# numeric_data.isnull().sum()\n"
   ]
  },
  {
   "cell_type": "code",
   "execution_count": 172,
   "id": "2b0ff533",
   "metadata": {},
   "outputs": [
    {
     "data": {
      "text/plain": [
       "array([[ 0.03067056, -1.06361075,  1.13473876,  0.1484529 , -0.21665953,\n",
       "        -0.03542945],\n",
       "       [ 0.83710898, -1.008707  ,  1.13473876, -0.14592048, -0.21665953,\n",
       "        -2.22215312],\n",
       "       [-0.04264203,  0.2450785 , -0.42005962, -0.14592048, -0.21665953,\n",
       "        -0.03542945],\n",
       "       ...,\n",
       "       [ 1.42360965, -0.35877741, -0.42005962, -0.14592048, -0.21665953,\n",
       "        -0.03542945],\n",
       "       [-1.21564337,  0.11095988, -0.42005962, -0.14592048, -0.21665953,\n",
       "        -1.65522476],\n",
       "       [ 0.98373415,  0.92989258, -0.42005962,  1.88842434, -0.21665953,\n",
       "        -0.03542945]])"
      ]
     },
     "execution_count": 172,
     "metadata": {},
     "output_type": "execute_result"
    }
   ],
   "source": [
    "#Créez une instance de StandardScaler pour normaliser les valeurs numériques :\n",
    "scaler = StandardScaler()\n",
    "scaler.fit(train_numeric_data_imputed)\n",
    "\n",
    "#Normalisez les valeurs numériques de votre ensemble de données :\n",
    "train_normalized_data = scaler.transform(train_numeric_data_imputed)\n",
    "train_normalized_data"
   ]
  },
  {
   "cell_type": "markdown",
   "id": "62bd7f49",
   "metadata": {},
   "source": [
    "### les memes traitement pour les données de test"
   ]
  },
  {
   "cell_type": "code",
   "execution_count": 174,
   "id": "a70949af",
   "metadata": {},
   "outputs": [
    {
     "data": {
      "text/plain": [
       "array([[-0.99570562,  0.35077413, -1.19745882, -0.14592048, -0.21665953,\n",
       "        -0.03542945],\n",
       "       [-0.04264203, -0.94709543, -0.42005962, -0.14592048, -0.21665953,\n",
       "         0.77446821],\n",
       "       [-0.77576787,  1.39436215,  0.74603917, -0.14592048, -0.21665953,\n",
       "        -0.03542945],\n",
       "       ...,\n",
       "       [-0.04264203,  1.75468988,  1.13473876, -0.14592048, -0.21665953,\n",
       "         0.77446821],\n",
       "       [ 0.39723348, -1.00321189,  1.13473876,  0.59272109, -0.21665953,\n",
       "        -0.03542945],\n",
       "       [-0.26257978, -0.07229261,  1.13473876, -0.14592048, -0.21665953,\n",
       "         1.58436587]])"
      ]
     },
     "execution_count": 174,
     "metadata": {},
     "output_type": "execute_result"
    }
   ],
   "source": [
    "test_data = test_data.replace('?', np.nan)\n",
    "test_numeric_data = test_data.select_dtypes(include=['number'])\n",
    "test_numeric_data_imputed = imputer.transform(test_numeric_data)\n",
    "test_normalized_data = scaler.transform(test_numeric_data_imputed)\n",
    "test_normalized_data"
   ]
  },
  {
   "cell_type": "markdown",
   "id": "ed900b9f",
   "metadata": {},
   "source": [
    "### Calculez les performances des cinq méthodes de classement étudiées sur les données 'adult earnings' en réalisant une validation croisée en 5 blocs sur les données d'apprentissage"
   ]
  },
  {
   "cell_type": "code",
   "execution_count": 185,
   "id": "73c15107",
   "metadata": {},
   "outputs": [],
   "source": [
    "from sklearn.model_selection import cross_val_score\n",
    "from sklearn.metrics import make_scorer, accuracy_score, precision_score, recall_score, f1_score\n",
    "from sklearn.dummy import DummyClassifier\n",
    "from sklearn.naive_bayes import GaussianNB\n",
    "from sklearn.tree import DecisionTreeClassifier\n",
    "from sklearn.ensemble import RandomForestClassifier\n",
    "from sklearn.linear_model import LogisticRegression\n",
    "from sklearn.svm import SVC\n",
    "from sklearn.model_selection import cross_val_score\n",
    "from sklearn.model_selection import cross_val_predict\n",
    "\n",
    "dummycl = DummyClassifier(strategy=\"most_frequent\")\n",
    "gmb = GaussianNB()\n",
    "dectree = DecisionTreeClassifier()\n",
    "rdforest = RandomForestClassifier()\n",
    "logreg = LogisticRegression(solver=\"liblinear\")\n",
    "svc = SVC(gamma='scale')\n",
    "\n",
    "lst_classif = [dummycl, gmb, dectree, rdforest, logreg, svc]\n",
    "lst_classif_names = ['Dummy', 'Naive Bayes', 'Decision tree', 'Random Forest', 'Logistic regression', 'SVM']\n",
    "\n",
    "def accuracy_score(lst_classif,lst_classif_names,X,y):\n",
    "    for clf,name_clf in zip(lst_classif,lst_classif_names):\n",
    "        scores = cross_val_score(clf, X, y, cv=5)\n",
    "        print(\"Accuracy of \"+name_clf+\" classifier on cross-validation: %0.2f (+/- %0.2f)\" % (scores.mean(), scores.std() * 2))\n",
    "\n",
    "def confusion_matrix(lst_classif,lst_classif_names,X,y):\n",
    "    for clf,name_clf in zip(lst_classif,lst_classif_names):\n",
    "        predicted = cross_val_predict(clf, X, y, cv=5) \n",
    "        print(\"Accuracy of \"+name_clf+\" classifier on cross-validation: %0.2f\" % metrics.accuracy_score(y, predicted))\n",
    "        print(metrics.confusion_matrix(y, predicted))\n",
    "\n"
   ]
  },
  {
   "cell_type": "code",
   "execution_count": 186,
   "id": "ef91cfc5",
   "metadata": {},
   "outputs": [
    {
     "name": "stdout",
     "output_type": "stream",
     "text": [
      "Accuracy of Dummy classifier on cross-validation: 0.76 (+/- 0.00)\n",
      "Accuracy of Naive Bayes classifier on cross-validation: 0.80 (+/- 0.01)\n",
      "Accuracy of Decision tree classifier on cross-validation: 0.77 (+/- 0.01)\n",
      "Accuracy of Random Forest classifier on cross-validation: 0.81 (+/- 0.01)\n",
      "Accuracy of Logistic regression classifier on cross-validation: 0.82 (+/- 0.01)\n",
      "Accuracy of SVM classifier on cross-validation: 0.82 (+/- 0.01)\n"
     ]
    }
   ],
   "source": [
    "accuracy_score(lst_classif, lst_classif_names, train_normalized_data, y_train)\n"
   ]
  },
  {
   "cell_type": "code",
   "execution_count": 189,
   "id": "27e0beb1",
   "metadata": {},
   "outputs": [
    {
     "name": "stdout",
     "output_type": "stream",
     "text": [
      "Accuracy of Dummy classifier on cross-validation: 0.76\n",
      "[[24720     0]\n",
      " [ 7841     0]]\n",
      "Accuracy of Naive Bayes classifier on cross-validation: 0.80\n",
      "[[23493  1227]\n",
      " [ 5411  2430]]\n",
      "Accuracy of Decision tree classifier on cross-validation: 0.77\n",
      "[[20867  3853]\n",
      " [ 3624  4217]]\n",
      "Accuracy of Random Forest classifier on cross-validation: 0.81\n",
      "[[22273  2447]\n",
      " [ 3841  4000]]\n",
      "Accuracy of Logistic regression classifier on cross-validation: 0.82\n",
      "[[23452  1268]\n",
      " [ 4750  3091]]\n",
      "Accuracy of SVM classifier on cross-validation: 0.82\n",
      "[[23895   825]\n",
      " [ 4912  2929]]\n"
     ]
    }
   ],
   "source": [
    "from sklearn.model_selection import cross_val_score\n",
    "from sklearn.model_selection import cross_val_predict\n",
    "from sklearn import metrics\n",
    "\n",
    "confusion_matrix(lst_classif, lst_classif_names, train_normalized_data, y_train)\n"
   ]
  },
  {
   "cell_type": "markdown",
   "id": "a915a605",
   "metadata": {},
   "source": [
    "### Dorénavant, on se propose de n'employer que les attributs catégoriels. Remplacez chaque valeur manquante par le mode (valeur la plus fréquente) de chaque attribut en recourant à SimpleImputer. Réalisez une disjonction des variables catégorielles à l'aide de la classe OneHotEncoder de la bibliothèque scikit-learn.\n"
   ]
  },
  {
   "cell_type": "code",
   "execution_count": 243,
   "id": "0e951bc8",
   "metadata": {},
   "outputs": [],
   "source": [
    "#Selectionner les attributs Catégoriels\n",
    "train_categorical_columns =  train_data.select_dtypes(include=['object']).drop('class',axis=1)\n",
    "test_categorical_columns  =  test_data.select_dtypes(include=['object']).drop('class',axis=1)"
   ]
  },
  {
   "cell_type": "code",
   "execution_count": 244,
   "id": "59d507a0",
   "metadata": {},
   "outputs": [
    {
     "data": {
      "text/html": [
       "<div>\n",
       "<style scoped>\n",
       "    .dataframe tbody tr th:only-of-type {\n",
       "        vertical-align: middle;\n",
       "    }\n",
       "\n",
       "    .dataframe tbody tr th {\n",
       "        vertical-align: top;\n",
       "    }\n",
       "\n",
       "    .dataframe thead th {\n",
       "        text-align: right;\n",
       "    }\n",
       "</style>\n",
       "<table border=\"1\" class=\"dataframe\">\n",
       "  <thead>\n",
       "    <tr style=\"text-align: right;\">\n",
       "      <th></th>\n",
       "      <th>workclass</th>\n",
       "      <th>education</th>\n",
       "      <th>marital-status</th>\n",
       "      <th>occupation</th>\n",
       "      <th>relationship</th>\n",
       "      <th>race</th>\n",
       "      <th>sex</th>\n",
       "      <th>native-country</th>\n",
       "    </tr>\n",
       "  </thead>\n",
       "  <tbody>\n",
       "    <tr>\n",
       "      <th>0</th>\n",
       "      <td>State-gov</td>\n",
       "      <td>Bachelors</td>\n",
       "      <td>Never-married</td>\n",
       "      <td>Adm-clerical</td>\n",
       "      <td>Not-in-family</td>\n",
       "      <td>White</td>\n",
       "      <td>Male</td>\n",
       "      <td>United-States</td>\n",
       "    </tr>\n",
       "    <tr>\n",
       "      <th>1</th>\n",
       "      <td>Self-emp-not-inc</td>\n",
       "      <td>Bachelors</td>\n",
       "      <td>Married-civ-spouse</td>\n",
       "      <td>Exec-managerial</td>\n",
       "      <td>Husband</td>\n",
       "      <td>White</td>\n",
       "      <td>Male</td>\n",
       "      <td>United-States</td>\n",
       "    </tr>\n",
       "    <tr>\n",
       "      <th>2</th>\n",
       "      <td>Private</td>\n",
       "      <td>HS-grad</td>\n",
       "      <td>Divorced</td>\n",
       "      <td>Handlers-cleaners</td>\n",
       "      <td>Not-in-family</td>\n",
       "      <td>White</td>\n",
       "      <td>Male</td>\n",
       "      <td>United-States</td>\n",
       "    </tr>\n",
       "    <tr>\n",
       "      <th>3</th>\n",
       "      <td>Private</td>\n",
       "      <td>11th</td>\n",
       "      <td>Married-civ-spouse</td>\n",
       "      <td>Handlers-cleaners</td>\n",
       "      <td>Husband</td>\n",
       "      <td>Black</td>\n",
       "      <td>Male</td>\n",
       "      <td>United-States</td>\n",
       "    </tr>\n",
       "    <tr>\n",
       "      <th>4</th>\n",
       "      <td>Private</td>\n",
       "      <td>Bachelors</td>\n",
       "      <td>Married-civ-spouse</td>\n",
       "      <td>Prof-specialty</td>\n",
       "      <td>Wife</td>\n",
       "      <td>Black</td>\n",
       "      <td>Female</td>\n",
       "      <td>Cuba</td>\n",
       "    </tr>\n",
       "  </tbody>\n",
       "</table>\n",
       "</div>"
      ],
      "text/plain": [
       "          workclass  education      marital-status         occupation  \\\n",
       "0         State-gov  Bachelors       Never-married       Adm-clerical   \n",
       "1  Self-emp-not-inc  Bachelors  Married-civ-spouse    Exec-managerial   \n",
       "2           Private    HS-grad            Divorced  Handlers-cleaners   \n",
       "3           Private       11th  Married-civ-spouse  Handlers-cleaners   \n",
       "4           Private  Bachelors  Married-civ-spouse     Prof-specialty   \n",
       "\n",
       "    relationship   race     sex native-country  \n",
       "0  Not-in-family  White    Male  United-States  \n",
       "1        Husband  White    Male  United-States  \n",
       "2  Not-in-family  White    Male  United-States  \n",
       "3        Husband  Black    Male  United-States  \n",
       "4           Wife  Black  Female           Cuba  "
      ]
     },
     "execution_count": 244,
     "metadata": {},
     "output_type": "execute_result"
    }
   ],
   "source": [
    "train_categorical_columns.head()"
   ]
  },
  {
   "cell_type": "code",
   "execution_count": 245,
   "id": "cb579f99",
   "metadata": {},
   "outputs": [
    {
     "data": {
      "text/plain": [
       "workclass         1836\n",
       "education            0\n",
       "marital-status       0\n",
       "occupation        1843\n",
       "relationship         0\n",
       "race                 0\n",
       "sex                  0\n",
       "native-country     583\n",
       "dtype: int64"
      ]
     },
     "execution_count": 245,
     "metadata": {},
     "output_type": "execute_result"
    }
   ],
   "source": [
    "train_categorical_columns.isnull().sum()"
   ]
  },
  {
   "cell_type": "code",
   "execution_count": 246,
   "id": "9ada6f84",
   "metadata": {},
   "outputs": [],
   "source": [
    "#Importez les classes nécessaires :\n",
    "from sklearn.impute import SimpleImputer\n",
    "from sklearn.preprocessing import OneHotEncoder\n",
    "\n",
    "#Créez une instance de SimpleImputer avec la stratégie \"most_frequent\" pour traiter les valeurs manquantes dans les attributs catégoriels\n",
    "train_categorical_imputer = SimpleImputer(strategy=\"most_frequent\")\n",
    "\n",
    "#Remplacer les valeurs manquantes dans notre DataFrame contenant les attributs catégoriels.\n",
    "train_categorical_columns = train_categorical_imputer.fit_transform(train_categorical_columns)"
   ]
  },
  {
   "cell_type": "code",
   "execution_count": 247,
   "id": "a2beab88",
   "metadata": {},
   "outputs": [
    {
     "data": {
      "text/plain": [
       "array([['State-gov', 'Bachelors', 'Never-married', ..., 'White', 'Male',\n",
       "        'United-States'],\n",
       "       ['Self-emp-not-inc', 'Bachelors', 'Married-civ-spouse', ...,\n",
       "        'White', 'Male', 'United-States'],\n",
       "       ['Private', 'HS-grad', 'Divorced', ..., 'White', 'Male',\n",
       "        'United-States'],\n",
       "       ...,\n",
       "       ['Private', 'HS-grad', 'Widowed', ..., 'White', 'Female',\n",
       "        'United-States'],\n",
       "       ['Private', 'HS-grad', 'Never-married', ..., 'White', 'Male',\n",
       "        'United-States'],\n",
       "       ['Self-emp-inc', 'HS-grad', 'Married-civ-spouse', ..., 'White',\n",
       "        'Female', 'United-States']], dtype=object)"
      ]
     },
     "execution_count": 247,
     "metadata": {},
     "output_type": "execute_result"
    }
   ],
   "source": [
    "train_categorical_columns"
   ]
  },
  {
   "cell_type": "code",
   "execution_count": 248,
   "id": "a5f370ce",
   "metadata": {},
   "outputs": [
    {
     "name": "stderr",
     "output_type": "stream",
     "text": [
      "C:\\Users\\samir\\AppData\\Local\\Programs\\Python\\Python311\\Lib\\site-packages\\sklearn\\preprocessing\\_encoders.py:808: FutureWarning: `sparse` was renamed to `sparse_output` in version 1.2 and will be removed in 1.4. `sparse_output` is ignored unless you leave `sparse` to its default value.\n",
      "  warnings.warn(\n"
     ]
    }
   ],
   "source": [
    "#Effectuer la disjonction des variables catégorielles\n",
    "one_hot_encoder = OneHotEncoder(sparse=False, drop=\"first\")\n",
    "\n",
    "#Appliquez le OneHotEncoder aux attributs catégoriels pour obtenir les données encodées \n",
    "encoded_train_categorical_data = one_hot_encoder.fit_transform(train_categorical_columns)"
   ]
  },
  {
   "cell_type": "code",
   "execution_count": 249,
   "id": "57dad206",
   "metadata": {},
   "outputs": [
    {
     "data": {
      "text/plain": [
       "array([[0., 0., 0., ..., 1., 0., 0.],\n",
       "       [0., 0., 0., ..., 1., 0., 0.],\n",
       "       [0., 0., 1., ..., 1., 0., 0.],\n",
       "       ...,\n",
       "       [0., 0., 1., ..., 1., 0., 0.],\n",
       "       [0., 0., 1., ..., 1., 0., 0.],\n",
       "       [0., 0., 0., ..., 1., 0., 0.]])"
      ]
     },
     "execution_count": 249,
     "metadata": {},
     "output_type": "execute_result"
    }
   ],
   "source": [
    "encoded_train_categorical_data"
   ]
  },
  {
   "cell_type": "markdown",
   "id": "c37e7d31",
   "metadata": {},
   "source": [
    "### la meme chose pour les données de test"
   ]
  },
  {
   "cell_type": "code",
   "execution_count": 260,
   "id": "6166bf65",
   "metadata": {},
   "outputs": [],
   "source": [
    "# Créez une instance de SimpleImputer avec la stratégie \"most_frequent\" pour traiter les valeurs manquantes dans les attributs catégoriels des données de test\n",
    "test_categorical_imputer = SimpleImputer(strategy=\"most_frequent\")\n",
    "\n",
    "# Remplacez les valeurs manquantes dans le DataFrame contenant les attributs catégoriels des données de test\n",
    "test_categorical_columns = test_categorical_imputer.fit_transform(test_categorical_columns)\n",
    "\n",
    "# Effectuer la disjonction des variables catégorielles pour les données de test\n",
    "encoded_test_categorical_data = one_hot_encoder.transform(test_categorical_columns)\n"
   ]
  },
  {
   "cell_type": "code",
   "execution_count": 261,
   "id": "ade6e96e",
   "metadata": {},
   "outputs": [
    {
     "data": {
      "text/plain": [
       "array([[0., 0., 1., ..., 1., 0., 0.],\n",
       "       [0., 0., 1., ..., 1., 0., 0.],\n",
       "       [1., 0., 0., ..., 1., 0., 0.],\n",
       "       ...,\n",
       "       [0., 0., 1., ..., 1., 0., 0.],\n",
       "       [0., 0., 1., ..., 1., 0., 0.],\n",
       "       [0., 0., 0., ..., 1., 0., 0.]])"
      ]
     },
     "execution_count": 261,
     "metadata": {},
     "output_type": "execute_result"
    }
   ],
   "source": [
    "encoded_test_categorical_data"
   ]
  },
  {
   "cell_type": "markdown",
   "id": "dadbd66e",
   "metadata": {},
   "source": [
    "### Calculez les performances de classement des cinq méthodes étudiants, en réalisant à nouveau une validation croisée en 5 bocs"
   ]
  },
  {
   "cell_type": "code",
   "execution_count": 252,
   "id": "3d371de7",
   "metadata": {},
   "outputs": [],
   "source": [
    "X = encoded_train_categorical_data\n",
    "\n",
    "dummycl = DummyClassifier(strategy=\"most_frequent\")\n",
    "gmb = GaussianNB()\n",
    "dectree = DecisionTreeClassifier()\n",
    "rdforest = RandomForestClassifier()\n",
    "logreg = LogisticRegression(solver=\"liblinear\")\n",
    "svc = SVC(gamma='scale')\n",
    "\n",
    "lst_classif = [dummycl, gmb, dectree, rdforest, logreg, svc]\n",
    "lst_classif_names = ['Dummy', 'Naive Bayes', 'Decision tree', 'Random Forest', 'Logistic regression', 'SVM']\n"
   ]
  },
  {
   "cell_type": "code",
   "execution_count": 253,
   "id": "e7fa5da0",
   "metadata": {},
   "outputs": [
    {
     "name": "stdout",
     "output_type": "stream",
     "text": [
      "Accuracy of Dummy classifier on cross-validation: 0.76 (+/- 0.00)\n",
      "Accuracy of Naive Bayes classifier on cross-validation: 0.49 (+/- 0.06)\n",
      "Accuracy of Decision tree classifier on cross-validation: 0.82 (+/- 0.00)\n",
      "Accuracy of Random Forest classifier on cross-validation: 0.82 (+/- 0.01)\n",
      "Accuracy of Logistic regression classifier on cross-validation: 0.83 (+/- 0.01)\n",
      "Accuracy of SVM classifier on cross-validation: 0.83 (+/- 0.01)\n"
     ]
    }
   ],
   "source": [
    "accuracy_score(lst_classif, lst_classif_names, X, y_train)"
   ]
  },
  {
   "cell_type": "code",
   "execution_count": 254,
   "id": "c170bde0",
   "metadata": {},
   "outputs": [
    {
     "name": "stdout",
     "output_type": "stream",
     "text": [
      "Accuracy of Dummy classifier on cross-validation: 0.76\n",
      "[[24720     0]\n",
      " [ 7841     0]]\n",
      "Accuracy of Naive Bayes classifier on cross-validation: 0.49\n",
      "[[ 8396 16324]\n",
      " [  375  7466]]\n",
      "Accuracy of Decision tree classifier on cross-validation: 0.82\n",
      "[[22363  2357]\n",
      " [ 3603  4238]]\n",
      "Accuracy of Random Forest classifier on cross-validation: 0.82\n",
      "[[22526  2194]\n",
      " [ 3522  4319]]\n",
      "Accuracy of Logistic regression classifier on cross-validation: 0.83\n",
      "[[22920  1800]\n",
      " [ 3731  4110]]\n",
      "Accuracy of SVM classifier on cross-validation: 0.83\n",
      "[[22937  1783]\n",
      " [ 3781  4060]]\n"
     ]
    }
   ],
   "source": [
    "confusion_matrix(lst_classif, lst_classif_names, X, y_train)"
   ]
  },
  {
   "cell_type": "markdown",
   "id": "3a40476c",
   "metadata": {},
   "source": [
    "### Utilisez enfin l'ensemble des colonnes, c-à-d en prenant en compte les attributs numériques et catégoriels. Calculez à nouveau les performances de classement en validation croisée à 5 blocs\n"
   ]
  },
  {
   "cell_type": "code",
   "execution_count": 255,
   "id": "6e44b259",
   "metadata": {},
   "outputs": [
    {
     "data": {
      "text/plain": [
       "array([[ 0.03067056, -1.06361075,  1.13473876, ...,  1.        ,\n",
       "         0.        ,  0.        ],\n",
       "       [ 0.83710898, -1.008707  ,  1.13473876, ...,  1.        ,\n",
       "         0.        ,  0.        ],\n",
       "       [-0.04264203,  0.2450785 , -0.42005962, ...,  1.        ,\n",
       "         0.        ,  0.        ],\n",
       "       ...,\n",
       "       [ 1.42360965, -0.35877741, -0.42005962, ...,  1.        ,\n",
       "         0.        ,  0.        ],\n",
       "       [-1.21564337,  0.11095988, -0.42005962, ...,  1.        ,\n",
       "         0.        ,  0.        ],\n",
       "       [ 0.98373415,  0.92989258, -0.42005962, ...,  1.        ,\n",
       "         0.        ,  0.        ]])"
      ]
     },
     "execution_count": 255,
     "metadata": {},
     "output_type": "execute_result"
    }
   ],
   "source": [
    "import numpy as np\n",
    "\n",
    "X_all  = np.hstack((train_normalized_data, encoded_train_categorical_data))\n",
    "X_all"
   ]
  },
  {
   "cell_type": "code",
   "execution_count": 256,
   "id": "e693a73b",
   "metadata": {},
   "outputs": [],
   "source": [
    "dummycl = DummyClassifier(strategy=\"most_frequent\")\n",
    "gmb = GaussianNB()\n",
    "dectree = DecisionTreeClassifier()\n",
    "rdforest = RandomForestClassifier()\n",
    "logreg = LogisticRegression(solver=\"liblinear\")\n",
    "svc = SVC(gamma='scale')\n",
    "\n",
    "lst_classif = [dummycl, gmb, dectree, rdforest, logreg, svc]\n",
    "lst_classif_names = ['Dummy', 'Naive Bayes', 'Decision tree', 'Random Forest', 'Logistic regression', 'SVM']\n"
   ]
  },
  {
   "cell_type": "code",
   "execution_count": 257,
   "id": "cd2a7182",
   "metadata": {},
   "outputs": [
    {
     "name": "stdout",
     "output_type": "stream",
     "text": [
      "Accuracy of Dummy classifier on cross-validation: 0.76 (+/- 0.00)\n",
      "Accuracy of Naive Bayes classifier on cross-validation: 0.52 (+/- 0.03)\n",
      "Accuracy of Decision tree classifier on cross-validation: 0.82 (+/- 0.01)\n",
      "Accuracy of Random Forest classifier on cross-validation: 0.85 (+/- 0.01)\n",
      "Accuracy of Logistic regression classifier on cross-validation: 0.85 (+/- 0.01)\n",
      "Accuracy of SVM classifier on cross-validation: 0.86 (+/- 0.01)\n"
     ]
    }
   ],
   "source": [
    "accuracy_score(lst_classif, lst_classif_names, X_all, y_train)"
   ]
  },
  {
   "cell_type": "code",
   "execution_count": 259,
   "id": "fe9ced2f",
   "metadata": {},
   "outputs": [
    {
     "name": "stdout",
     "output_type": "stream",
     "text": [
      "Accuracy of Dummy classifier on cross-validation: 0.76\n",
      "[[24720     0]\n",
      " [ 7841     0]]\n",
      "Accuracy of Naive Bayes classifier on cross-validation: 0.52\n",
      "[[ 9556 15164]\n",
      " [  350  7491]]\n",
      "Accuracy of Decision tree classifier on cross-validation: 0.81\n",
      "[[21610  3110]\n",
      " [ 2933  4908]]\n",
      "Accuracy of Random Forest classifier on cross-validation: 0.85\n",
      "[[22927  1793]\n",
      " [ 2980  4861]]\n",
      "Accuracy of Logistic regression classifier on cross-validation: 0.85\n",
      "[[23042  1678]\n",
      " [ 3161  4680]]\n",
      "Accuracy of SVM classifier on cross-validation: 0.86\n",
      "[[23294  1426]\n",
      " [ 3275  4566]]\n"
     ]
    }
   ],
   "source": [
    "confusion_matrix(lst_classif, lst_classif_names, X_all, y_train)"
   ]
  },
  {
   "cell_type": "markdown",
   "id": "41d26460",
   "metadata": {},
   "source": [
    "###  Sélectionnez le meilleur modèle testé lors des configurations précédentes et apprenez-le sur l'ensemble des données d'apprentissage"
   ]
  },
  {
   "cell_type": "markdown",
   "id": "1b3cde17",
   "metadata": {},
   "source": [
    "le meilleur midel est SVM avec une precision de 0,86"
   ]
  },
  {
   "cell_type": "code",
   "execution_count": 263,
   "id": "8b26c2f6",
   "metadata": {},
   "outputs": [],
   "source": [
    "X_test = np.hstack((test_normalized_data, encoded_test_categorical_data))"
   ]
  },
  {
   "cell_type": "code",
   "execution_count": 264,
   "id": "a2ae744b",
   "metadata": {},
   "outputs": [
    {
     "data": {
      "text/plain": [
       "array([[-0.99570562,  0.35077413, -1.19745882, ...,  1.        ,\n",
       "         0.        ,  0.        ],\n",
       "       [-0.04264203, -0.94709543, -0.42005962, ...,  1.        ,\n",
       "         0.        ,  0.        ],\n",
       "       [-0.77576787,  1.39436215,  0.74603917, ...,  1.        ,\n",
       "         0.        ,  0.        ],\n",
       "       ...,\n",
       "       [-0.04264203,  1.75468988,  1.13473876, ...,  1.        ,\n",
       "         0.        ,  0.        ],\n",
       "       [ 0.39723348, -1.00321189,  1.13473876, ...,  1.        ,\n",
       "         0.        ,  0.        ],\n",
       "       [-0.26257978, -0.07229261,  1.13473876, ...,  1.        ,\n",
       "         0.        ,  0.        ]])"
      ]
     },
     "execution_count": 264,
     "metadata": {},
     "output_type": "execute_result"
    }
   ],
   "source": [
    "X_test"
   ]
  },
  {
   "cell_type": "code",
   "execution_count": 265,
   "id": "6b465eb0",
   "metadata": {},
   "outputs": [
    {
     "data": {
      "text/html": [
       "<style>#sk-container-id-1 {color: black;background-color: white;}#sk-container-id-1 pre{padding: 0;}#sk-container-id-1 div.sk-toggleable {background-color: white;}#sk-container-id-1 label.sk-toggleable__label {cursor: pointer;display: block;width: 100%;margin-bottom: 0;padding: 0.3em;box-sizing: border-box;text-align: center;}#sk-container-id-1 label.sk-toggleable__label-arrow:before {content: \"▸\";float: left;margin-right: 0.25em;color: #696969;}#sk-container-id-1 label.sk-toggleable__label-arrow:hover:before {color: black;}#sk-container-id-1 div.sk-estimator:hover label.sk-toggleable__label-arrow:before {color: black;}#sk-container-id-1 div.sk-toggleable__content {max-height: 0;max-width: 0;overflow: hidden;text-align: left;background-color: #f0f8ff;}#sk-container-id-1 div.sk-toggleable__content pre {margin: 0.2em;color: black;border-radius: 0.25em;background-color: #f0f8ff;}#sk-container-id-1 input.sk-toggleable__control:checked~div.sk-toggleable__content {max-height: 200px;max-width: 100%;overflow: auto;}#sk-container-id-1 input.sk-toggleable__control:checked~label.sk-toggleable__label-arrow:before {content: \"▾\";}#sk-container-id-1 div.sk-estimator input.sk-toggleable__control:checked~label.sk-toggleable__label {background-color: #d4ebff;}#sk-container-id-1 div.sk-label input.sk-toggleable__control:checked~label.sk-toggleable__label {background-color: #d4ebff;}#sk-container-id-1 input.sk-hidden--visually {border: 0;clip: rect(1px 1px 1px 1px);clip: rect(1px, 1px, 1px, 1px);height: 1px;margin: -1px;overflow: hidden;padding: 0;position: absolute;width: 1px;}#sk-container-id-1 div.sk-estimator {font-family: monospace;background-color: #f0f8ff;border: 1px dotted black;border-radius: 0.25em;box-sizing: border-box;margin-bottom: 0.5em;}#sk-container-id-1 div.sk-estimator:hover {background-color: #d4ebff;}#sk-container-id-1 div.sk-parallel-item::after {content: \"\";width: 100%;border-bottom: 1px solid gray;flex-grow: 1;}#sk-container-id-1 div.sk-label:hover label.sk-toggleable__label {background-color: #d4ebff;}#sk-container-id-1 div.sk-serial::before {content: \"\";position: absolute;border-left: 1px solid gray;box-sizing: border-box;top: 0;bottom: 0;left: 50%;z-index: 0;}#sk-container-id-1 div.sk-serial {display: flex;flex-direction: column;align-items: center;background-color: white;padding-right: 0.2em;padding-left: 0.2em;position: relative;}#sk-container-id-1 div.sk-item {position: relative;z-index: 1;}#sk-container-id-1 div.sk-parallel {display: flex;align-items: stretch;justify-content: center;background-color: white;position: relative;}#sk-container-id-1 div.sk-item::before, #sk-container-id-1 div.sk-parallel-item::before {content: \"\";position: absolute;border-left: 1px solid gray;box-sizing: border-box;top: 0;bottom: 0;left: 50%;z-index: -1;}#sk-container-id-1 div.sk-parallel-item {display: flex;flex-direction: column;z-index: 1;position: relative;background-color: white;}#sk-container-id-1 div.sk-parallel-item:first-child::after {align-self: flex-end;width: 50%;}#sk-container-id-1 div.sk-parallel-item:last-child::after {align-self: flex-start;width: 50%;}#sk-container-id-1 div.sk-parallel-item:only-child::after {width: 0;}#sk-container-id-1 div.sk-dashed-wrapped {border: 1px dashed gray;margin: 0 0.4em 0.5em 0.4em;box-sizing: border-box;padding-bottom: 0.4em;background-color: white;}#sk-container-id-1 div.sk-label label {font-family: monospace;font-weight: bold;display: inline-block;line-height: 1.2em;}#sk-container-id-1 div.sk-label-container {text-align: center;}#sk-container-id-1 div.sk-container {/* jupyter's `normalize.less` sets `[hidden] { display: none; }` but bootstrap.min.css set `[hidden] { display: none !important; }` so we also need the `!important` here to be able to override the default hidden behavior on the sphinx rendered scikit-learn.org. See: https://github.com/scikit-learn/scikit-learn/issues/21755 */display: inline-block !important;position: relative;}#sk-container-id-1 div.sk-text-repr-fallback {display: none;}</style><div id=\"sk-container-id-1\" class=\"sk-top-container\"><div class=\"sk-text-repr-fallback\"><pre>SVC()</pre><b>In a Jupyter environment, please rerun this cell to show the HTML representation or trust the notebook. <br />On GitHub, the HTML representation is unable to render, please try loading this page with nbviewer.org.</b></div><div class=\"sk-container\" hidden><div class=\"sk-item\"><div class=\"sk-estimator sk-toggleable\"><input class=\"sk-toggleable__control sk-hidden--visually\" id=\"sk-estimator-id-1\" type=\"checkbox\" checked><label for=\"sk-estimator-id-1\" class=\"sk-toggleable__label sk-toggleable__label-arrow\">SVC</label><div class=\"sk-toggleable__content\"><pre>SVC()</pre></div></div></div></div></div>"
      ],
      "text/plain": [
       "SVC()"
      ]
     },
     "execution_count": 265,
     "metadata": {},
     "output_type": "execute_result"
    }
   ],
   "source": [
    "from sklearn.svm import SVC\n",
    "\n",
    "# Créez un modèle SVM\n",
    "best_model = SVC(gamma='scale')\n",
    "\n",
    "# Entraînez le modèle sur l'ensemble des données d'apprentissage\n",
    "best_model.fit(X_all, y_train)"
   ]
  },
  {
   "cell_type": "markdown",
   "id": "01051d28",
   "metadata": {},
   "source": [
    "### Quelle est la performance mesurée avec ce modèle sur le corpus de test ?"
   ]
  },
  {
   "cell_type": "code",
   "execution_count": 266,
   "id": "18294b11",
   "metadata": {},
   "outputs": [
    {
     "name": "stdout",
     "output_type": "stream",
     "text": [
      "Précision du modèle SVM sur les données de test : 0.86\n"
     ]
    }
   ],
   "source": [
    "# la méthode score pour évaluer la précision du modèle SVM sur les données de test :\n",
    "accuracy = best_model.score(X_test, y_test)\n",
    "print(f\"Précision du modèle SVM sur les données de test : {accuracy:.2f}\")\n"
   ]
  },
  {
   "cell_type": "markdown",
   "id": "3586c6fa",
   "metadata": {},
   "source": [
    "###  Quelle est la classe pour laquelle la prédiction fait le plus d'erreurs ?\n"
   ]
  },
  {
   "cell_type": "code",
   "execution_count": 267,
   "id": "6f1ac49a",
   "metadata": {},
   "outputs": [
    {
     "name": "stdout",
     "output_type": "stream",
     "text": [
      "Matrice de confusion :\n",
      "[[11731   704]\n",
      " [ 1605  2241]]\n"
     ]
    }
   ],
   "source": [
    "from sklearn.metrics import confusion_matrix\n",
    "\n",
    "# Prédisez les classes sur les données de test\n",
    "y_pred = best_model.predict(X_test)\n",
    "\n",
    "# Calculez la matrice de confusion\n",
    "confusion = confusion_matrix(y_test, y_pred)\n",
    "print(\"Matrice de confusion :\")\n",
    "print(confusion)\n"
   ]
  },
  {
   "cell_type": "code",
   "execution_count": null,
   "id": "75ed8651",
   "metadata": {},
   "outputs": [],
   "source": []
  }
 ],
 "metadata": {
  "kernelspec": {
   "display_name": "Python 3 (ipykernel)",
   "language": "python",
   "name": "python3"
  },
  "language_info": {
   "codemirror_mode": {
    "name": "ipython",
    "version": 3
   },
   "file_extension": ".py",
   "mimetype": "text/x-python",
   "name": "python",
   "nbconvert_exporter": "python",
   "pygments_lexer": "ipython3",
   "version": "3.11.1"
  }
 },
 "nbformat": 4,
 "nbformat_minor": 5
}
